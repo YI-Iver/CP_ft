{
 "cells": [
  {
   "cell_type": "code",
   "execution_count": 21,
   "metadata": {},
   "outputs": [],
   "source": [
    "import cv2\n",
    "import numpy as np\n",
    "import pandas as pd\n",
    "import os\n",
    "from sklearn import utils\n",
    "from tqdm.notebook import tqdm"
   ]
  },
  {
   "cell_type": "code",
   "execution_count": 22,
   "metadata": {},
   "outputs": [],
   "source": [
    "train_dir = r'C:\\Users\\Iver_Home\\CP_ft\\temp'"
   ]
  },
  {
   "cell_type": "code",
   "execution_count": 23,
   "metadata": {},
   "outputs": [],
   "source": [
    "def labeling(img):\n",
    "    class_name = img.split('.')[0]\n",
    "    if class_name == 'mevius':\n",
    "        return 1\n",
    "    elif class_name =='marlboro':\n",
    "        return 2\n",
    "    elif class_name =='esse':\n",
    "        return 3\n",
    "    elif class_name =='bohem':\n",
    "        return 4\n",
    "    elif class_name =='dunhill':\n",
    "        return 5\n",
    "    "
   ]
  },
  {
   "cell_type": "code",
   "execution_count": 24,
   "metadata": {},
   "outputs": [
    {
     "name": "stdout",
     "output_type": "stream",
     "text": [
      "3\n"
     ]
    }
   ],
   "source": [
    "print(labeling('esse.14.jpg'))"
   ]
  },
  {
   "cell_type": "code",
   "execution_count": 25,
   "metadata": {},
   "outputs": [],
   "source": [
    "x_data = list()\n",
    "t_data = list()"
   ]
  },
  {
   "cell_type": "code",
   "execution_count": 26,
   "metadata": {},
   "outputs": [
    {
     "name": "stdout",
     "output_type": "stream",
     "text": [
      "['bohem.14.jpg']\n"
     ]
    },
    {
     "data": {
      "application/vnd.jupyter.widget-view+json": {
       "model_id": "a05d264067d244ca86745d7e1d2ab109",
       "version_major": 2,
       "version_minor": 0
      },
      "text/plain": [
       "  0%|          | 0/1 [00:00<?, ?it/s]"
      ]
     },
     "metadata": {},
     "output_type": "display_data"
    }
   ],
   "source": [
    "print(os.listdir(train_dir))\n",
    "\n",
    "for img in tqdm(os.listdir(train_dir)):\n",
    "    total = len(os.listdir(train_dir))   #=100\n",
    "    position = 0\n",
    "    leave = True\n",
    "    label_data = labeling(img)\n",
    "    img_path = os.path.join(train_dir,img)\n",
    "    img_data = cv2.resize(cv2.imread(img_path,cv2.IMREAD_COLOR),(189,252))\n",
    "    #img_data = cv2.resize(cv2.imread(img_path,cv2.IMREAD_GRAYSCALE),(189,252))\n",
    "    #img_data : 3d array\n",
    "    x_data.append(img_data.ravel())\n",
    "    t_data.append(label_data)"
   ]
  },
  {
   "cell_type": "code",
   "execution_count": 31,
   "metadata": {},
   "outputs": [
    {
     "name": "stdout",
     "output_type": "stream",
     "text": [
      "[[[222 220 219]\n",
      "  [215 213 212]\n",
      "  [206 206 200]\n",
      "  ...\n",
      "  [ 57  59  47]\n",
      "  [ 56  58  48]\n",
      "  [ 50  54  42]]\n",
      "\n",
      " [[216 214 213]\n",
      "  [211 210 206]\n",
      "  [174 179 170]\n",
      "  ...\n",
      "  [ 61  63  51]\n",
      "  [ 56  58  46]\n",
      "  [ 56  58  46]]\n",
      "\n",
      " [[212 210 209]\n",
      "  [195 199 190]\n",
      "  [147 157 144]\n",
      "  ...\n",
      "  [ 62  61  51]\n",
      "  [ 65  67  55]\n",
      "  [ 64  66  54]]\n",
      "\n",
      " ...\n",
      "\n",
      " [[ 11  18  11]\n",
      "  [ 28  35  29]\n",
      "  [ 31  38  31]\n",
      "  ...\n",
      "  [ 31  35  30]\n",
      "  [ 34  38  33]\n",
      "  [ 26  30  25]]\n",
      "\n",
      " [[ 25  32  25]\n",
      "  [ 33  40  34]\n",
      "  [ 35  42  35]\n",
      "  ...\n",
      "  [ 30  34  29]\n",
      "  [ 32  36  31]\n",
      "  [ 30  34  29]]\n",
      "\n",
      " [[ 26  31  22]\n",
      "  [ 25  32  25]\n",
      "  [ 36  44  37]\n",
      "  ...\n",
      "  [ 34  38  32]\n",
      "  [ 33  37  32]\n",
      "  [ 31  35  29]]]\n"
     ]
    }
   ],
   "source": [
    "print(img_data)"
   ]
  },
  {
   "cell_type": "code",
   "execution_count": 27,
   "metadata": {},
   "outputs": [
    {
     "data": {
      "text/html": [
       "<div>\n",
       "<style scoped>\n",
       "    .dataframe tbody tr th:only-of-type {\n",
       "        vertical-align: middle;\n",
       "    }\n",
       "\n",
       "    .dataframe tbody tr th {\n",
       "        vertical-align: top;\n",
       "    }\n",
       "\n",
       "    .dataframe thead th {\n",
       "        text-align: right;\n",
       "    }\n",
       "</style>\n",
       "<table border=\"1\" class=\"dataframe\">\n",
       "  <thead>\n",
       "    <tr style=\"text-align: right;\">\n",
       "      <th></th>\n",
       "      <th>0</th>\n",
       "      <th>1</th>\n",
       "      <th>2</th>\n",
       "      <th>3</th>\n",
       "      <th>4</th>\n",
       "      <th>5</th>\n",
       "      <th>6</th>\n",
       "      <th>7</th>\n",
       "      <th>8</th>\n",
       "      <th>9</th>\n",
       "      <th>...</th>\n",
       "      <th>142874</th>\n",
       "      <th>142875</th>\n",
       "      <th>142876</th>\n",
       "      <th>142877</th>\n",
       "      <th>142878</th>\n",
       "      <th>142879</th>\n",
       "      <th>142880</th>\n",
       "      <th>142881</th>\n",
       "      <th>142882</th>\n",
       "      <th>142883</th>\n",
       "    </tr>\n",
       "  </thead>\n",
       "  <tbody>\n",
       "    <tr>\n",
       "      <th>0</th>\n",
       "      <td>-34</td>\n",
       "      <td>-36</td>\n",
       "      <td>-37</td>\n",
       "      <td>-41</td>\n",
       "      <td>-43</td>\n",
       "      <td>-44</td>\n",
       "      <td>-50</td>\n",
       "      <td>-50</td>\n",
       "      <td>-56</td>\n",
       "      <td>-86</td>\n",
       "      <td>...</td>\n",
       "      <td>31</td>\n",
       "      <td>34</td>\n",
       "      <td>38</td>\n",
       "      <td>32</td>\n",
       "      <td>33</td>\n",
       "      <td>37</td>\n",
       "      <td>32</td>\n",
       "      <td>31</td>\n",
       "      <td>35</td>\n",
       "      <td>29</td>\n",
       "    </tr>\n",
       "  </tbody>\n",
       "</table>\n",
       "<p>1 rows × 142884 columns</p>\n",
       "</div>"
      ],
      "text/plain": [
       "   0       1       2       3       4       5       6       7       8       \\\n",
       "0     -34     -36     -37     -41     -43     -44     -50     -50     -56   \n",
       "\n",
       "   9       ...  142874  142875  142876  142877  142878  142879  142880  \\\n",
       "0     -86  ...      31      34      38      32      33      37      32   \n",
       "\n",
       "   142881  142882  142883  \n",
       "0      31      35      29  \n",
       "\n",
       "[1 rows x 142884 columns]"
      ]
     },
     "metadata": {},
     "output_type": "display_data"
    }
   ],
   "source": [
    "x_df = pd.DataFrame(x_data)\n",
    "t_df = pd.DataFrame({'label':t_data})\n",
    "display(x_df)"
   ]
  },
  {
   "cell_type": "code",
   "execution_count": 28,
   "metadata": {},
   "outputs": [
    {
     "data": {
      "text/html": [
       "<div>\n",
       "<style scoped>\n",
       "    .dataframe tbody tr th:only-of-type {\n",
       "        vertical-align: middle;\n",
       "    }\n",
       "\n",
       "    .dataframe tbody tr th {\n",
       "        vertical-align: top;\n",
       "    }\n",
       "\n",
       "    .dataframe thead th {\n",
       "        text-align: right;\n",
       "    }\n",
       "</style>\n",
       "<table border=\"1\" class=\"dataframe\">\n",
       "  <thead>\n",
       "    <tr style=\"text-align: right;\">\n",
       "      <th></th>\n",
       "      <th>0</th>\n",
       "      <th>1</th>\n",
       "      <th>2</th>\n",
       "      <th>3</th>\n",
       "      <th>4</th>\n",
       "      <th>5</th>\n",
       "      <th>6</th>\n",
       "      <th>7</th>\n",
       "      <th>8</th>\n",
       "      <th>9</th>\n",
       "      <th>...</th>\n",
       "      <th>142874</th>\n",
       "      <th>142875</th>\n",
       "      <th>142876</th>\n",
       "      <th>142877</th>\n",
       "      <th>142878</th>\n",
       "      <th>142879</th>\n",
       "      <th>142880</th>\n",
       "      <th>142881</th>\n",
       "      <th>142882</th>\n",
       "      <th>142883</th>\n",
       "    </tr>\n",
       "  </thead>\n",
       "  <tbody>\n",
       "    <tr>\n",
       "      <th>0</th>\n",
       "      <td>-34</td>\n",
       "      <td>-36</td>\n",
       "      <td>-37</td>\n",
       "      <td>-41</td>\n",
       "      <td>-43</td>\n",
       "      <td>-44</td>\n",
       "      <td>-50</td>\n",
       "      <td>-50</td>\n",
       "      <td>-56</td>\n",
       "      <td>-86</td>\n",
       "      <td>...</td>\n",
       "      <td>31</td>\n",
       "      <td>34</td>\n",
       "      <td>38</td>\n",
       "      <td>32</td>\n",
       "      <td>33</td>\n",
       "      <td>37</td>\n",
       "      <td>32</td>\n",
       "      <td>31</td>\n",
       "      <td>35</td>\n",
       "      <td>29</td>\n",
       "    </tr>\n",
       "  </tbody>\n",
       "</table>\n",
       "<p>1 rows × 142884 columns</p>\n",
       "</div>"
      ],
      "text/plain": [
       "   0       1       2       3       4       5       6       7       8       \\\n",
       "0     -34     -36     -37     -41     -43     -44     -50     -50     -56   \n",
       "\n",
       "   9       ...  142874  142875  142876  142877  142878  142879  142880  \\\n",
       "0     -86  ...      31      34      38      32      33      37      32   \n",
       "\n",
       "   142881  142882  142883  \n",
       "0      31      35      29  \n",
       "\n",
       "[1 rows x 142884 columns]"
      ]
     },
     "metadata": {},
     "output_type": "display_data"
    }
   ],
   "source": [
    "df = pd.merge(t_df, x_df, left_index=True, right_index=True)\n",
    "display(x_df)"
   ]
  },
  {
   "cell_type": "code",
   "execution_count": 29,
   "metadata": {},
   "outputs": [],
   "source": [
    "#shuffled_df = utils.shuffle(df)"
   ]
  },
  {
   "cell_type": "code",
   "execution_count": 30,
   "metadata": {},
   "outputs": [],
   "source": [
    "#shuffled_df.to_csv(r'C:\\Users\\Iver_Home\\CP_ft\\mix_output\\test.csv', index=False)\n",
    "df.to_csv(r'C:\\Users\\Iver_Home\\CP_ft\\mix_output\\test3.csv', index=False)"
   ]
  },
  {
   "cell_type": "code",
   "execution_count": null,
   "metadata": {},
   "outputs": [],
   "source": []
  }
 ],
 "metadata": {
  "interpreter": {
   "hash": "e036898735df109ed652720227ccf5e3b2ee36e0e286e03919424c3db5fff0c3"
  },
  "kernelspec": {
   "display_name": "Python 3.10.4 64-bit",
   "language": "python",
   "name": "python3"
  },
  "language_info": {
   "codemirror_mode": {
    "name": "ipython",
    "version": 3
   },
   "file_extension": ".py",
   "mimetype": "text/x-python",
   "name": "python",
   "nbconvert_exporter": "python",
   "pygments_lexer": "ipython3",
   "version": "3.10.4"
  },
  "orig_nbformat": 4
 },
 "nbformat": 4,
 "nbformat_minor": 2
}
