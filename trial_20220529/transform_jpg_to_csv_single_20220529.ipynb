{
 "cells": [
  {
   "cell_type": "code",
   "execution_count": 122,
   "metadata": {},
   "outputs": [],
   "source": [
    "import cv2\n",
    "import numpy as np\n",
    "import pandas as pd\n",
    "import os\n",
    "from sklearn import utils\n",
    "from tqdm.notebook import tqdm\n",
    "import matplotlib as plt\n",
    "import matplotlib.pyplot as matplot\n",
    "%matplotlib inline "
   ]
  },
  {
   "cell_type": "code",
   "execution_count": 123,
   "metadata": {},
   "outputs": [],
   "source": [
    "train_dir = r'C:\\Users\\Iver_Home\\CP_ft\\temp'"
   ]
  },
  {
   "cell_type": "code",
   "execution_count": 124,
   "metadata": {},
   "outputs": [],
   "source": [
    "def labeling(img):\n",
    "    class_name = img.split('.')[0]\n",
    "    if class_name == 'dunhill':\n",
    "        return 0\n",
    "    elif class_name =='marlboro':\n",
    "        return 2\n",
    "    elif class_name =='esse':\n",
    "        return 3\n",
    "    elif class_name =='bohem':\n",
    "        return 4\n",
    "    elif class_name =='mevius':\n",
    "        return 1\n",
    "    "
   ]
  },
  {
   "cell_type": "code",
   "execution_count": 125,
   "metadata": {},
   "outputs": [
    {
     "name": "stdout",
     "output_type": "stream",
     "text": [
      "3\n"
     ]
    }
   ],
   "source": [
    "print(labeling('esse.14.jpg'))"
   ]
  },
  {
   "cell_type": "code",
   "execution_count": 126,
   "metadata": {},
   "outputs": [
    {
     "name": "stdout",
     "output_type": "stream",
     "text": [
      "['esse.41.jpg']\n"
     ]
    }
   ],
   "source": [
    "print(os.listdir(train_dir))"
   ]
  },
  {
   "cell_type": "code",
   "execution_count": 137,
   "metadata": {},
   "outputs": [],
   "source": [
    "L_number = np.zeros((1,1))\n",
    "raw_data = np.zeros((161,286,3))"
   ]
  },
  {
   "cell_type": "code",
   "execution_count": null,
   "metadata": {},
   "outputs": [],
   "source": []
  },
  {
   "cell_type": "code",
   "execution_count": 127,
   "metadata": {},
   "outputs": [
    {
     "name": "stdout",
     "output_type": "stream",
     "text": [
      "[]\n"
     ]
    }
   ],
   "source": [
    "'''\n",
    "x_data = list()\n",
    "t_data = list()\n",
    "'''"
   ]
  },
  {
   "cell_type": "code",
   "execution_count": 130,
   "metadata": {},
   "outputs": [
    {
     "data": {
      "text/plain": [
       "'\\nfor img in tqdm(os.listdir(train_dir)):\\n    total = len(os.listdir(train_dir))   #=100\\n    #position = 0\\n    #leave = True\\n    label_data = labeling(img)\\n    img_path = os.path.join(train_dir,img)\\n    img_data = cv2.resize(cv2.imread(img_path,cv2.IMREAD_COLOR),(126,95))\\n    #img_data : 3d array\\n\\n    x_data.append(img_data.flatten())\\n        \\n    t_data.append(label_data)\\n    \\nprint(img_data)\\n\\nprint(x_data)\\n'"
      ]
     },
     "execution_count": 130,
     "metadata": {},
     "output_type": "execute_result"
    }
   ],
   "source": [
    "'''\n",
    "for img in tqdm(os.listdir(train_dir)):\n",
    "    total = len(os.listdir(train_dir))   #=100\n",
    "    #position = 0\n",
    "    #leave = True\n",
    "    label_data = labeling(img)\n",
    "    img_path = os.path.join(train_dir,img)\n",
    "    img_data = cv2.resize(cv2.imread(img_path,cv2.IMREAD_COLOR),(126,95))\n",
    "    #img_data : 3d array\n",
    "\n",
    "    x_data.append(img_data.flatten())\n",
    "        \n",
    "    t_data.append(label_data)\n",
    "    \n",
    "print(img_data)\n",
    "\n",
    "print(x_data)\n",
    "'''"
   ]
  },
  {
   "cell_type": "code",
   "execution_count": 131,
   "metadata": {},
   "outputs": [
    {
     "data": {
      "text/html": [
       "<div>\n",
       "<style scoped>\n",
       "    .dataframe tbody tr th:only-of-type {\n",
       "        vertical-align: middle;\n",
       "    }\n",
       "\n",
       "    .dataframe tbody tr th {\n",
       "        vertical-align: top;\n",
       "    }\n",
       "\n",
       "    .dataframe thead th {\n",
       "        text-align: right;\n",
       "    }\n",
       "</style>\n",
       "<table border=\"1\" class=\"dataframe\">\n",
       "  <thead>\n",
       "    <tr style=\"text-align: right;\">\n",
       "      <th></th>\n",
       "      <th>0</th>\n",
       "      <th>1</th>\n",
       "      <th>2</th>\n",
       "      <th>3</th>\n",
       "      <th>4</th>\n",
       "      <th>5</th>\n",
       "      <th>6</th>\n",
       "      <th>7</th>\n",
       "      <th>8</th>\n",
       "      <th>9</th>\n",
       "      <th>...</th>\n",
       "      <th>138128</th>\n",
       "      <th>138129</th>\n",
       "      <th>138130</th>\n",
       "      <th>138131</th>\n",
       "      <th>138132</th>\n",
       "      <th>138133</th>\n",
       "      <th>138134</th>\n",
       "      <th>138135</th>\n",
       "      <th>138136</th>\n",
       "      <th>138137</th>\n",
       "    </tr>\n",
       "  </thead>\n",
       "  <tbody>\n",
       "    <tr>\n",
       "      <th>0</th>\n",
       "      <td>121</td>\n",
       "      <td>127</td>\n",
       "      <td>126</td>\n",
       "      <td>123</td>\n",
       "      <td>-127</td>\n",
       "      <td>-128</td>\n",
       "      <td>124</td>\n",
       "      <td>-126</td>\n",
       "      <td>-127</td>\n",
       "      <td>123</td>\n",
       "      <td>...</td>\n",
       "      <td>113</td>\n",
       "      <td>113</td>\n",
       "      <td>116</td>\n",
       "      <td>114</td>\n",
       "      <td>114</td>\n",
       "      <td>117</td>\n",
       "      <td>115</td>\n",
       "      <td>116</td>\n",
       "      <td>119</td>\n",
       "      <td>117</td>\n",
       "    </tr>\n",
       "  </tbody>\n",
       "</table>\n",
       "<p>1 rows × 138138 columns</p>\n",
       "</div>"
      ],
      "text/plain": [
       "   0       1       2       3       4       5       6       7       8       \\\n",
       "0     121     127     126     123    -127    -128     124    -126    -127   \n",
       "\n",
       "   9       ...  138128  138129  138130  138131  138132  138133  138134  \\\n",
       "0     123  ...     113     113     116     114     114     117     115   \n",
       "\n",
       "   138135  138136  138137  \n",
       "0     116     119     117  \n",
       "\n",
       "[1 rows x 138138 columns]"
      ]
     },
     "metadata": {},
     "output_type": "display_data"
    }
   ],
   "source": [
    "#  -126~126 --> 0~255\n",
    "#arr128 = np.full((250,35910),128)\n",
    "#x_data = x_data + arr128\n",
    "\n",
    "#x_data = np.array(x_data)\n",
    "#x_data = x_data + 128\n",
    "\n",
    "x_df = pd.DataFrame(x_data)\n",
    "t_df = pd.DataFrame({'label':t_data})\n",
    "display(x_df)"
   ]
  },
  {
   "cell_type": "code",
   "execution_count": 132,
   "metadata": {},
   "outputs": [],
   "source": [
    "df = pd.merge(t_df, x_df, left_index=True, right_index=True)\n",
    "shuffled_df = utils.shuffle(df)"
   ]
  },
  {
   "cell_type": "code",
   "execution_count": 133,
   "metadata": {},
   "outputs": [],
   "source": [
    "shuffled_df.to_csv(r'C:\\Users\\Iver_Home\\CP_ft\\mix_output\\single_test_20220529.csv', index=False)\n",
    "#df.to_csv(r'C:\\Users\\Iver_Home\\CP_ft\\mix_output\\test_all2.csv', index=False)"
   ]
  },
  {
   "cell_type": "code",
   "execution_count": null,
   "metadata": {},
   "outputs": [],
   "source": []
  }
 ],
 "metadata": {
  "interpreter": {
   "hash": "e036898735df109ed652720227ccf5e3b2ee36e0e286e03919424c3db5fff0c3"
  },
  "kernelspec": {
   "display_name": "Python 3.10.4 64-bit",
   "language": "python",
   "name": "python3"
  },
  "language_info": {
   "codemirror_mode": {
    "name": "ipython",
    "version": 3
   },
   "file_extension": ".py",
   "mimetype": "text/x-python",
   "name": "python",
   "nbconvert_exporter": "python",
   "pygments_lexer": "ipython3",
   "version": "3.10.4"
  },
  "orig_nbformat": 4
 },
 "nbformat": 4,
 "nbformat_minor": 2
}
