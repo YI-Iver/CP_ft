{
 "cells": [
  {
   "cell_type": "code",
   "execution_count": 10,
   "metadata": {},
   "outputs": [],
   "source": [
    "import numpy as np\n",
    "import cv2\n",
    "import pandas as pd"
   ]
  },
  {
   "cell_type": "code",
   "execution_count": 13,
   "metadata": {},
   "outputs": [
    {
     "name": "stdout",
     "output_type": "stream",
     "text": [
      "<class 'numpy.ndarray'>\n"
     ]
    }
   ],
   "source": [
    "img1 = cv2.imread(r'C:\\Users\\Iver_Home\\CP_ft\\mevius\\mevius.1.jpg')\n",
    "img1 = cv2.imread(r'C:\\Users\\Iver_Home\\CP_ft\\mevius\\mevius.1.jpg',1)\n",
    "img1 = cv2.imread(r'C:\\Users\\Iver_Home\\CP_ft\\mevius\\mevius.1.jpg',cv2.IMREAD_REDUCED_COLOR_2)\n",
    "img1 = cv2.resize(img1,(126,95))\n",
    "\n",
    "print(type(img1))\n",
    "\n",
    "cv2.imshow(\"image1\",img1)\n",
    "cv2.waitKey(0)\n",
    "cv2.destroyAllWindows()"
   ]
  },
  {
   "cell_type": "code",
   "execution_count": 3,
   "metadata": {},
   "outputs": [],
   "source": [
    "img1_grey = cv2.imread(r'C:\\Users\\Iver_Home\\CP_ft\\mevius\\mevius.1.jpg',cv2.IMREAD_GRAYSCALE)\n",
    "img1_grey = cv2.resize(img1_grey,(126,95))\n",
    "\n",
    "cv2.imshow(\"image1_grey\",img1_grey)\n",
    "cv2.waitKey(0)\n",
    "cv2.destroyAllWindows()"
   ]
  },
  {
   "cell_type": "code",
   "execution_count": 4,
   "metadata": {},
   "outputs": [
    {
     "name": "stdout",
     "output_type": "stream",
     "text": [
      "<class 'numpy.ndarray'>\n",
      "[[32 52 39 ... 40 41 37]\n",
      " [45 41 35 ... 38 36 35]\n",
      " [38 37 35 ... 45 37 42]\n",
      " ...\n",
      " [45 40 45 ... 31 28 30]\n",
      " [37 41 43 ... 31 32 31]\n",
      " [40 47 39 ... 31 29 27]]\n"
     ]
    }
   ],
   "source": [
    "print(type(img1_grey))\n",
    "print(img1_grey)\n",
    "np.savetxt('ttest.csv',img1_grey,delimiter=\",\")"
   ]
  },
  {
   "cell_type": "code",
   "execution_count": 5,
   "metadata": {},
   "outputs": [],
   "source": [
    "df = pd.DataFrame(img1_grey)\n",
    "\n",
    "df.to_csv('tttest.csv', index=False)"
   ]
  },
  {
   "cell_type": "code",
   "execution_count": 6,
   "metadata": {},
   "outputs": [],
   "source": [
    "canny_img1 = cv2.Canny(img1_grey, 100,255)\n",
    "\n",
    "cv2.imshow(\"canny\",canny_img1)\n",
    "cv2.waitKey(0)\n",
    "cv2.destroyAllWindows()"
   ]
  },
  {
   "cell_type": "code",
   "execution_count": 7,
   "metadata": {},
   "outputs": [],
   "source": [
    "sobel_img1 = cv2.Sobel(img1_grey, cv2.CV_8U, 1, 0, 3)\n",
    "\n",
    "cv2.imshow(\"sobel\", sobel_img1)\n",
    "cv2.waitKey(0)\n",
    "cv2.destroyAllWindows()"
   ]
  },
  {
   "cell_type": "code",
   "execution_count": 8,
   "metadata": {},
   "outputs": [],
   "source": [
    "laplacian_img1 = cv2.Laplacian(img1_grey, cv2.CV_8U, ksize=3)\n",
    "\n",
    "cv2.imshow(\"laplacian\", laplacian_img1)\n",
    "cv2.waitKey()\n",
    "cv2.destroyAllWindows()"
   ]
  },
  {
   "cell_type": "code",
   "execution_count": null,
   "metadata": {},
   "outputs": [],
   "source": []
  }
 ],
 "metadata": {
  "interpreter": {
   "hash": "e036898735df109ed652720227ccf5e3b2ee36e0e286e03919424c3db5fff0c3"
  },
  "kernelspec": {
   "display_name": "Python 3.10.4 64-bit",
   "language": "python",
   "name": "python3"
  },
  "language_info": {
   "codemirror_mode": {
    "name": "ipython",
    "version": 3
   },
   "file_extension": ".py",
   "mimetype": "text/x-python",
   "name": "python",
   "nbconvert_exporter": "python",
   "pygments_lexer": "ipython3",
   "version": "3.10.4"
  },
  "orig_nbformat": 4
 },
 "nbformat": 4,
 "nbformat_minor": 2
}
