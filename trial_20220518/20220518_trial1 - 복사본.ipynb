{
 "cells": [
  {
   "cell_type": "code",
   "execution_count": 10,
   "metadata": {
    "collapsed": true
   },
   "outputs": [],
   "source": [
    "import numpy\n",
    "# scipy.special for the sigmoid function expit()\n",
    "import scipy.special\n",
    "import matplotlib.pyplot as matplot\n",
    "%matplotlib inline "
   ]
  },
  {
   "cell_type": "code",
   "execution_count": 11,
   "metadata": {},
   "outputs": [],
   "source": [
    "# neural network class definition\n",
    "class neuralNetwork:\n",
    "    \n",
    "    \n",
    "    # initialise the neural network\n",
    "    def __init__(self, inputnodes, hiddennodes, outputnodes, learningrate):\n",
    "        # set number of nodes in each input, hidden, output layer\n",
    "        self.inodes = inputnodes\n",
    "        self.hnodes = hiddennodes\n",
    "        self.onodes = outputnodes\n",
    "        \n",
    "        # link weight matrices, wih and who\n",
    "        # weights inside the arrays are w_i_j, where link is from node i to node j in the next layer\n",
    "        # w11 w21\n",
    "        # w12 w22 etc \n",
    "        self.wih = numpy.random.normal(0.0, pow(self.inodes, -0.5), (self.hnodes, self.inodes))\n",
    "        self.who = numpy.random.normal(0.0, pow(self.hnodes, -0.5), (self.onodes, self.hnodes))\n",
    "\n",
    "        # learning rate\n",
    "        self.lr = learningrate\n",
    "        \n",
    "        # activation function is the sigmoid function\n",
    "        self.activation_function = lambda x: scipy.special.expit(x)\n",
    "        \n",
    "        pass\n",
    "\n",
    "    \n",
    "    # train the neural network\n",
    "    def train(self, inputs_list, targets_list):\n",
    "        # convert inputs list to 2d array\n",
    "        inputs = numpy.array(inputs_list, ndmin=2).T\n",
    "        targets = numpy.array(targets_list, ndmin=2).T\n",
    "        \n",
    "        # calculate signals into hidden layer\n",
    "        hidden_inputs = numpy.dot(self.wih, inputs)\n",
    "        # calculate the signals emerging from hidden layer\n",
    "        hidden_outputs = self.activation_function(hidden_inputs)\n",
    "        \n",
    "        # calculate signals into final output layer\n",
    "        final_inputs = numpy.dot(self.who, hidden_outputs)\n",
    "        # calculate the signals emerging from final output layer\n",
    "        final_outputs = self.activation_function(final_inputs)\n",
    "        \n",
    "        # output layer error is the (target - actual)\n",
    "        output_errors = targets - final_outputs\n",
    "        # hidden layer error is the output_errors, split by weights, recombined at hidden nodes\n",
    "        hidden_errors = numpy.dot(self.who.T, output_errors) \n",
    "        \n",
    "        # update the weights for the links between the hidden and output layers\n",
    "        self.who += self.lr * numpy.dot((output_errors * final_outputs * (1.0 - final_outputs)), numpy.transpose(hidden_outputs))\n",
    "        \n",
    "        # update the weights for the links between the input and hidden layers\n",
    "        self.wih += self.lr * numpy.dot((hidden_errors * hidden_outputs * (1.0 - hidden_outputs)), numpy.transpose(inputs))\n",
    "        \n",
    "        pass\n",
    "\n",
    "    \n",
    "    # query the neural network\n",
    "    def query(self, inputs_list):\n",
    "        # convert inputs list to 2d array\n",
    "        inputs = numpy.array(inputs_list, ndmin=2).T\n",
    "        \n",
    "        # calculate signals into hidden layer\n",
    "        hidden_inputs = numpy.dot(self.wih, inputs)\n",
    "        # calculate the signals emerging from hidden layer\n",
    "        hidden_outputs = self.activation_function(hidden_inputs)\n",
    "        \n",
    "        # calculate signals into final output layer\n",
    "        final_inputs = numpy.dot(self.who, hidden_outputs)\n",
    "        # calculate the signals emerging from final output layer\n",
    "        final_outputs = self.activation_function(final_inputs)\n",
    "        \n",
    "        return final_outputs"
   ]
  },
  {
   "cell_type": "code",
   "execution_count": 12,
   "metadata": {},
   "outputs": [],
   "source": [
    "# number of input, hidden and output nodes\n",
    "input_nodes = 47628\n",
    "hidden_nodes = 20000\n",
    "output_nodes = 6\n",
    "\n",
    "# learning rate\n",
    "learning_rate = 0.4\n",
    "\n",
    "# create instance of neural network\n",
    "n = neuralNetwork(input_nodes,hidden_nodes,output_nodes, learning_rate)"
   ]
  },
  {
   "cell_type": "code",
   "execution_count": 13,
   "metadata": {},
   "outputs": [
    {
     "data": {
      "text/plain": [
       "100"
      ]
     },
     "execution_count": 13,
     "metadata": {},
     "output_type": "execute_result"
    }
   ],
   "source": [
    "#load the mnist training data CSV file into a list\n",
    "training_data_file=open(\"cigar_train_100.csv\",'r')\n",
    "training_data_list=training_data_file.readlines()\n",
    "training_data_list=training_data_list[1:]\n",
    "training_data_file.close()\n",
    "\n",
    "len(training_data_list)\n"
   ]
  },
  {
   "cell_type": "code",
   "execution_count": 14,
   "metadata": {},
   "outputs": [],
   "source": [
    "#train the neural network\n",
    "#go through all records on the training data set\n",
    "for record in training_data_list:\n",
    "     #split the record by the ',' commas\n",
    "     all_values=record.split(',')\n",
    "     #scale and shift the inouts\n",
    "     inputs=(numpy.asfarray(all_values[1:])/255.0*0.99)+0.01\n",
    "     #create the target outout values (all 0.01, except the desired label which is 0.99)\n",
    "     targets=numpy.zeros(output_nodes)+0.01\n",
    "     #all_values[0] is the targetlabel for this record\n",
    "     targets[int(all_values[0])]=0.99\n",
    "     n.train(inputs,targets)\n",
    "     pass"
   ]
  },
  {
   "cell_type": "code",
   "execution_count": null,
   "metadata": {},
   "outputs": [],
   "source": [
    "#epochs is the numbers of times the training data set is used for training\n",
    "\n",
    "epochs=2\n",
    "for e in range(epochs):\n",
    "    #go through all records in the training data set\n",
    "    for record in training_data_list:\n",
    "        #split the record by the ',' commas\n",
    "        all_values=record.split(',')\n",
    "        #scale and shift the inputs\n",
    "        inputs=(numpy.asfarray(all_values[1:])/255.0*0.99)+0.01\n",
    "        #create the target output values (all 0.01, except the desired label which is 0.99)\n",
    "        targets=numpy.zeros(output_nodes)+0.01\n",
    "        #all_values[0] is the taeget label for this record\n",
    "        targets[int(all_values[0])]=0.99\n",
    "        n.train(inputs,targets)\n",
    "        pass\n",
    "    pass"
   ]
  },
  {
   "cell_type": "code",
   "execution_count": null,
   "metadata": {},
   "outputs": [],
   "source": [
    "#load the mnist test data CSV file into a list\n",
    "test_data_file=open(\"test_15.csv\",'r')\n",
    "test_data_list=test_data_file.readlines()\n",
    "test_data_list=test_data_list[1:]\n",
    "test_data_file.close()"
   ]
  },
  {
   "cell_type": "code",
   "execution_count": null,
   "metadata": {},
   "outputs": [
    {
     "name": "stdout",
     "output_type": "stream",
     "text": [
      "1 correct label\n",
      "5 network's answer\n",
      "3 correct label\n",
      "5 network's answer\n",
      "3 correct label\n",
      "5 network's answer\n",
      "4 correct label\n",
      "5 network's answer\n",
      "5 correct label\n",
      "5 network's answer\n",
      "4 correct label\n",
      "5 network's answer\n",
      "1 correct label\n",
      "5 network's answer\n",
      "1 correct label\n",
      "5 network's answer\n",
      "2 correct label\n",
      "5 network's answer\n",
      "2 correct label\n",
      "5 network's answer\n",
      "2 correct label\n",
      "5 network's answer\n",
      "5 correct label\n",
      "5 network's answer\n",
      "5 correct label\n",
      "5 network's answer\n",
      "3 correct label\n",
      "5 network's answer\n",
      "4 correct label\n",
      "5 network's answer\n"
     ]
    }
   ],
   "source": [
    "#test the neural network\n",
    "\n",
    "#scorecard for how well the network performs, initially empty\n",
    "scorecard=[]\n",
    "\n",
    "#go through all the records in the test data set\n",
    "for record in test_data_list:\n",
    "    #split the record by the ',' commas\n",
    "    all_values=record.split(',')\n",
    "    #correct answer is first value\n",
    "    correct_label=int(all_values[0])\n",
    "    print(correct_label,\"correct label\")\n",
    "    #scale and shift the inputs\n",
    "    inputs=(numpy.asfarray(all_values[1:])/255.0*0.99)+0.01\n",
    "    #query the network\n",
    "    outputs=n.query(inputs)\n",
    "    label=numpy.argmax(outputs)\n",
    "    print(label,\"network's answer\")\n",
    "    #append correct or incorrect to list\n",
    "    if (label==correct_label):\n",
    "        #network's answer matches correct answer, add 1 to scorecard\n",
    "        scorecard.append(1)\n",
    "    else:\n",
    "        #network's answer does not match correct answer, add 0 to scorecard\n",
    "        scorecard.append(0)\n",
    "        pass\n",
    "    pass"
   ]
  },
  {
   "cell_type": "code",
   "execution_count": null,
   "metadata": {},
   "outputs": [
    {
     "name": "stdout",
     "output_type": "stream",
     "text": [
      "performance= 0.2\n"
     ]
    }
   ],
   "source": [
    "#calculate the performance score, the fraction of correct answers\n",
    "scorecard_array=numpy.asarray(scorecard)\n",
    "print(\"performance=\",scorecard_array.sum()/scorecard_array.size)"
   ]
  }
 ],
 "metadata": {
  "interpreter": {
   "hash": "e036898735df109ed652720227ccf5e3b2ee36e0e286e03919424c3db5fff0c3"
  },
  "kernelspec": {
   "display_name": "Python 3.10.4 64-bit",
   "language": "python",
   "name": "python3"
  },
  "language_info": {
   "codemirror_mode": {
    "name": "ipython",
    "version": 3
   },
   "file_extension": ".py",
   "mimetype": "text/x-python",
   "name": "python",
   "nbconvert_exporter": "python",
   "pygments_lexer": "ipython3",
   "version": "3.10.4"
  }
 },
 "nbformat": 4,
 "nbformat_minor": 1
}
