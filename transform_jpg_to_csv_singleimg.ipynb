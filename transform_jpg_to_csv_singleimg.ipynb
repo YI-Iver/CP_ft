{
 "cells": [
  {
   "cell_type": "code",
   "execution_count": 1,
   "metadata": {},
   "outputs": [],
   "source": [
    "import cv2\n",
    "import numpy as np\n",
    "import pandas as pd\n",
    "import os\n",
    "from sklearn import utils\n",
    "from tqdm.notebook import tqdm"
   ]
  },
  {
   "cell_type": "code",
   "execution_count": 2,
   "metadata": {},
   "outputs": [],
   "source": [
    "train_dir = r'C:\\Users\\Iver_Home\\CP_ft\\temp'"
   ]
  },
  {
   "cell_type": "code",
   "execution_count": 3,
   "metadata": {},
   "outputs": [],
   "source": [
    "def labeling(img):\n",
    "    class_name = img.split('.')[0]\n",
    "    if class_name == 'mevius':\n",
    "        return 1\n",
    "    elif class_name =='marlboro':\n",
    "        return 2\n",
    "    elif class_name =='esse':\n",
    "        return 3\n",
    "    elif class_name =='bohem':\n",
    "        return 4\n",
    "    elif class_name =='dunhill':\n",
    "        return 5\n",
    "    "
   ]
  },
  {
   "cell_type": "code",
   "execution_count": 4,
   "metadata": {},
   "outputs": [
    {
     "name": "stdout",
     "output_type": "stream",
     "text": [
      "3\n"
     ]
    }
   ],
   "source": [
    "print(labeling('esse.14.jpg'))"
   ]
  },
  {
   "cell_type": "code",
   "execution_count": 5,
   "metadata": {},
   "outputs": [],
   "source": [
    "x_data = list()\n",
    "t_data = list()"
   ]
  },
  {
   "cell_type": "code",
   "execution_count": 6,
   "metadata": {},
   "outputs": [
    {
     "name": "stdout",
     "output_type": "stream",
     "text": [
      "['bohem.14.jpg']\n"
     ]
    },
    {
     "data": {
      "application/vnd.jupyter.widget-view+json": {
       "model_id": "b9c87738c0a14782af09753bdde9ccf6",
       "version_major": 2,
       "version_minor": 0
      },
      "text/plain": [
       "  0%|          | 0/1 [00:00<?, ?it/s]"
      ]
     },
     "metadata": {},
     "output_type": "display_data"
    },
    {
     "name": "stdout",
     "output_type": "stream",
     "text": [
      "[[220 213 204 ...  55  55  50]\n",
      " [214 209 176 ...  59  54  54]\n",
      " [210 196 152 ...  58  63  62]\n",
      " ...\n",
      " [ 15  32  35 ...  33  36  28]\n",
      " [ 29  37  39 ...  32  34  32]\n",
      " [ 28  29  41 ...  36  35  33]]\n"
     ]
    }
   ],
   "source": [
    "print(os.listdir(train_dir))\n",
    "\n",
    "for img in tqdm(os.listdir(train_dir)):\n",
    "    total = len(os.listdir(train_dir))   #=100\n",
    "    label_data = labeling(img)\n",
    "    img_path = os.path.join(train_dir,img)\n",
    "    img_data = cv2.resize(cv2.imread(img_path,cv2.IMREAD_GRAYSCALE),(189,252))\n",
    "    #img_data : 2d array\n",
    "    x_data.append(img_data.ravel())\n",
    "    t_data.append(label_data)\n",
    "print(img_data)\n",
    "    \n"
   ]
  },
  {
   "cell_type": "code",
   "execution_count": null,
   "metadata": {},
   "outputs": [],
   "source": [
    "x_df = pd.DataFrame(x_data)\n",
    "t_df = pd.DataFrame({'label':t_data})\n",
    "display(x_df)"
   ]
  },
  {
   "cell_type": "code",
   "execution_count": null,
   "metadata": {},
   "outputs": [
    {
     "data": {
      "text/html": [
       "<div>\n",
       "<style scoped>\n",
       "    .dataframe tbody tr th:only-of-type {\n",
       "        vertical-align: middle;\n",
       "    }\n",
       "\n",
       "    .dataframe tbody tr th {\n",
       "        vertical-align: top;\n",
       "    }\n",
       "\n",
       "    .dataframe thead th {\n",
       "        text-align: right;\n",
       "    }\n",
       "</style>\n",
       "<table border=\"1\" class=\"dataframe\">\n",
       "  <thead>\n",
       "    <tr style=\"text-align: right;\">\n",
       "      <th></th>\n",
       "    </tr>\n",
       "  </thead>\n",
       "  <tbody>\n",
       "  </tbody>\n",
       "</table>\n",
       "</div>"
      ],
      "text/plain": [
       "Empty DataFrame\n",
       "Columns: []\n",
       "Index: []"
      ]
     },
     "metadata": {},
     "output_type": "display_data"
    }
   ],
   "source": [
    "df = pd.merge(t_df, x_df, left_index=True, right_index=True)\n",
    "display(x_df)"
   ]
  },
  {
   "cell_type": "code",
   "execution_count": null,
   "metadata": {},
   "outputs": [],
   "source": [
    "#shuffled_df = utils.shuffle(df)"
   ]
  },
  {
   "cell_type": "code",
   "execution_count": null,
   "metadata": {},
   "outputs": [],
   "source": [
    "#shuffled_df.to_csv(r'C:\\Users\\Iver_Home\\CP_ft\\mix_output\\test.csv', index=False)\n",
    "df.to_csv(r'C:\\Users\\Iver_Home\\CP_ft\\mix_output\\test3.csv', index=False)"
   ]
  },
  {
   "cell_type": "code",
   "execution_count": null,
   "metadata": {},
   "outputs": [],
   "source": []
  }
 ],
 "metadata": {
  "interpreter": {
   "hash": "e036898735df109ed652720227ccf5e3b2ee36e0e286e03919424c3db5fff0c3"
  },
  "kernelspec": {
   "display_name": "Python 3.10.4 64-bit",
   "language": "python",
   "name": "python3"
  },
  "language_info": {
   "codemirror_mode": {
    "name": "ipython",
    "version": 3
   },
   "file_extension": ".py",
   "mimetype": "text/x-python",
   "name": "python",
   "nbconvert_exporter": "python",
   "pygments_lexer": "ipython3",
   "version": "3.10.4"
  },
  "orig_nbformat": 4
 },
 "nbformat": 4,
 "nbformat_minor": 2
}
