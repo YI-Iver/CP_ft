{
 "cells": [
  {
   "cell_type": "code",
   "execution_count": 11,
   "metadata": {},
   "outputs": [],
   "source": [
    "import numpy as np\n",
    "import cv2\n",
    "import pandas as pd"
   ]
  },
  {
   "cell_type": "code",
   "execution_count": 21,
   "metadata": {},
   "outputs": [
    {
     "name": "stdout",
     "output_type": "stream",
     "text": [
      "<class 'numpy.ndarray'>\n",
      "(378, 504, 3)\n",
      "[[[220 218 217]\n",
      "  [221 219 218]\n",
      "  [217 215 214]\n",
      "  ...\n",
      "  [ 57  61  49]\n",
      "  [ 65  68  56]\n",
      "  [ 51  57  40]]\n",
      "\n",
      " [[221 219 218]\n",
      "  [220 218 217]\n",
      "  [218 216 215]\n",
      "  ...\n",
      "  [ 58  60  48]\n",
      "  [ 59  62  50]\n",
      "  [ 55  60  45]]\n",
      "\n",
      " [[219 217 216]\n",
      "  [219 217 216]\n",
      "  [215 213 212]\n",
      "  ...\n",
      "  [ 62  64  52]\n",
      "  [ 66  68  56]\n",
      "  [ 49  54  39]]\n",
      "\n",
      " ...\n",
      "\n",
      " [[ 21  28  21]\n",
      "  [ 21  28  21]\n",
      "  [ 25  32  25]\n",
      "  ...\n",
      "  [ 25  29  23]\n",
      "  [ 28  32  27]\n",
      "  [ 32  36  31]]\n",
      "\n",
      " [[ 24  29  21]\n",
      "  [ 15  19  12]\n",
      "  [ 21  28  20]\n",
      "  ...\n",
      "  [ 32  36  31]\n",
      "  [ 31  35  29]\n",
      "  [ 38  42  36]]\n",
      "\n",
      " [[ 19  24  16]\n",
      "  [ 24  29  21]\n",
      "  [ 14  22  13]\n",
      "  ...\n",
      "  [ 28  32  27]\n",
      "  [ 28  32  27]\n",
      "  [ 29  33  28]]]\n"
     ]
    }
   ],
   "source": [
    "img1 = cv2.imread(r'C:\\Users\\Iver_Home\\CP_ft\\mevius\\bohem.14.jpg')\n",
    "img1 = cv2.imread(r'C:\\Users\\Iver_Home\\CP_ft\\mevius\\bohem.14.jpg',1)\n",
    "img1 = cv2.imread(r'C:\\Users\\Iver_Home\\CP_ft\\mix\\bohem.14.jpg',cv2.IMREAD_COLOR)\n",
    "img1 = cv2.resize(img1,(504,378))\n",
    "\n",
    "print(type(img1))\n",
    "\n",
    "print(np.shape(img1))\n",
    "\n",
    "print(img1)\n",
    "\n",
    "cv2.imshow(\"image1\",img1)\n",
    "cv2.waitKey(0)\n",
    "cv2.destroyAllWindows()"
   ]
  },
  {
   "cell_type": "code",
   "execution_count": 13,
   "metadata": {},
   "outputs": [],
   "source": [
    "img1_grey = cv2.imread(r'C:\\Users\\Iver_Home\\CP_ft\\mix\\bohem.14.jpg',cv2.IMREAD_GRAYSCALE)\n",
    "img1_grey = cv2.resize(img1_grey,(504,378))\n",
    "\n",
    "cv2.imshow(\"image1_grey\",img1_grey)\n",
    "cv2.waitKey(0)\n",
    "cv2.destroyAllWindows()"
   ]
  },
  {
   "cell_type": "code",
   "execution_count": 14,
   "metadata": {},
   "outputs": [
    {
     "name": "stdout",
     "output_type": "stream",
     "text": [
      "<class 'numpy.ndarray'>\n",
      "[[218 219 215 ...  57  64  51]\n",
      " [219 218 216 ...  56  58  55]\n",
      " [217 217 213 ...  60  64  49]\n",
      " ...\n",
      " [ 25  25  29 ...  27  30  34]\n",
      " [ 26  17  25 ...  34  33  40]\n",
      " [ 21  26  18 ...  30  30  31]]\n"
     ]
    }
   ],
   "source": [
    "print(type(img1_grey))\n",
    "print(img1_grey)\n",
    "np.savetxt('ttest.csv',img1_grey,delimiter=\",\")"
   ]
  },
  {
   "cell_type": "code",
   "execution_count": 15,
   "metadata": {},
   "outputs": [],
   "source": [
    "df = pd.DataFrame(img1_grey)\n",
    "\n",
    "df.to_csv('tttest.csv', index=False)"
   ]
  },
  {
   "cell_type": "code",
   "execution_count": 16,
   "metadata": {},
   "outputs": [],
   "source": [
    "canny_img1 = cv2.Canny(img1_grey, 100,255)\n",
    "\n",
    "cv2.imshow(\"canny\",canny_img1)\n",
    "cv2.waitKey(0)\n",
    "cv2.destroyAllWindows()"
   ]
  },
  {
   "cell_type": "code",
   "execution_count": 17,
   "metadata": {},
   "outputs": [],
   "source": [
    "sobel_img1 = cv2.Sobel(img1_grey, cv2.CV_8U, 1, 0, 3)\n",
    "\n",
    "cv2.imshow(\"sobel\", sobel_img1)\n",
    "cv2.waitKey(0)\n",
    "cv2.destroyAllWindows()"
   ]
  },
  {
   "cell_type": "code",
   "execution_count": 18,
   "metadata": {},
   "outputs": [],
   "source": [
    "laplacian_img1 = cv2.Laplacian(img1_grey, cv2.CV_8U, ksize=3)\n",
    "\n",
    "cv2.imshow(\"laplacian\", laplacian_img1)\n",
    "cv2.waitKey()\n",
    "cv2.destroyAllWindows()"
   ]
  },
  {
   "cell_type": "code",
   "execution_count": null,
   "metadata": {},
   "outputs": [],
   "source": []
  }
 ],
 "metadata": {
  "interpreter": {
   "hash": "e036898735df109ed652720227ccf5e3b2ee36e0e286e03919424c3db5fff0c3"
  },
  "kernelspec": {
   "display_name": "Python 3.10.4 64-bit",
   "language": "python",
   "name": "python3"
  },
  "language_info": {
   "codemirror_mode": {
    "name": "ipython",
    "version": 3
   },
   "file_extension": ".py",
   "mimetype": "text/x-python",
   "name": "python",
   "nbconvert_exporter": "python",
   "pygments_lexer": "ipython3",
   "version": "3.10.4"
  },
  "orig_nbformat": 4
 },
 "nbformat": 4,
 "nbformat_minor": 2
}
