{
 "cells": [
  {
   "cell_type": "code",
   "execution_count": 1,
   "metadata": {},
   "outputs": [],
   "source": [
    "import cv2\n",
    "import numpy as np\n",
    "import pandas as pd\n",
    "import os\n",
    "from sklearn import utils\n",
    "from tqdm.notebook import tqdm"
   ]
  },
  {
   "cell_type": "code",
   "execution_count": 2,
   "metadata": {},
   "outputs": [],
   "source": [
    "train_dir = r'C:\\Users\\Iver_Home\\CP_ft\\temp'"
   ]
  },
  {
   "cell_type": "code",
   "execution_count": 3,
   "metadata": {},
   "outputs": [],
   "source": [
    "def labeling(img):\n",
    "    class_name = img.split('.')[0]\n",
    "    if class_name == 'bohem':\n",
    "        return 0\n",
    "    elif class_name =='dunhill':\n",
    "        return 1\n",
    "    elif class_name =='esse':\n",
    "        return 2\n",
    "    elif class_name =='marlboro':\n",
    "        return 3\n",
    "    elif class_name =='mevius':\n",
    "        return 4\n",
    "    "
   ]
  },
  {
   "cell_type": "code",
   "execution_count": 4,
   "metadata": {},
   "outputs": [
    {
     "name": "stdout",
     "output_type": "stream",
     "text": [
      "2\n"
     ]
    }
   ],
   "source": [
    "print(labeling('esse.14.jpg'))"
   ]
  },
  {
   "cell_type": "code",
   "execution_count": 5,
   "metadata": {},
   "outputs": [
    {
     "data": {
      "text/plain": [
       "array([0, 0, 0, ..., 0, 0, 0])"
      ]
     },
     "execution_count": 5,
     "metadata": {},
     "output_type": "execute_result"
    }
   ],
   "source": [
    "raw_data = np.zeros((83625),int)      # pixel size (*3 if color)\n",
    "label_data = np.zeros((1),int)\n",
    "\n",
    "raw_data"
   ]
  },
  {
   "cell_type": "code",
   "execution_count": 6,
   "metadata": {},
   "outputs": [
    {
     "data": {
      "application/vnd.jupyter.widget-view+json": {
       "model_id": "a98677c101da4404a5cf469442d329ce",
       "version_major": 2,
       "version_minor": 0
      },
      "text/plain": [
       "  0%|          | 0/1 [00:00<?, ?it/s]"
      ]
     },
     "metadata": {},
     "output_type": "display_data"
    },
    {
     "name": "stdout",
     "output_type": "stream",
     "text": [
      "[[  0   0   0 ...   0   0   0]\n",
      " [121 127 126 ... 114 117 115]]\n",
      "[[0]\n",
      " [2]]\n"
     ]
    }
   ],
   "source": [
    "for img_file in tqdm(os.listdir(train_dir)):\n",
    "   \n",
    "    img_path = os.path.join(train_dir,img_file)\n",
    "    img_data = cv2.resize(cv2.imread(img_path,cv2.IMREAD_COLOR),(223,125))\n",
    "    flat_img_data = np.ravel(img_data,order='C')\n",
    "    \n",
    "    label = np.array([labeling(img_file)])\n",
    "    \n",
    "    raw_data = np.append(raw_data, flat_img_data, axis=0)\n",
    "    label_data = np.append(label_data, label, axis=0)\n",
    "\n",
    "img_amount = len(os.listdir(train_dir))\n",
    "\n",
    "raw_data = np.reshape(raw_data,(img_amount+1,83625))\n",
    "label_data = np.reshape(label_data,(img_amount+1,1))\n",
    "\n",
    "print(raw_data)\n",
    "print(label_data)"
   ]
  },
  {
   "cell_type": "code",
   "execution_count": 7,
   "metadata": {},
   "outputs": [
    {
     "name": "stdout",
     "output_type": "stream",
     "text": [
      "[[  0   0   0 ...   0   0   0]\n",
      " [  2 121 127 ... 114 117 115]]\n"
     ]
    }
   ],
   "source": [
    "combined_data = np.concatenate((label_data, raw_data), axis=1)\n",
    "print(combined_data)"
   ]
  },
  {
   "cell_type": "code",
   "execution_count": 8,
   "metadata": {},
   "outputs": [
    {
     "name": "stdout",
     "output_type": "stream",
     "text": [
      "[[  2 121 127 ... 114 117 115]]\n"
     ]
    }
   ],
   "source": [
    "semi_final_outputs = combined_data[1:img_amount+1]\n",
    "print(semi_final_outputs)"
   ]
  },
  {
   "cell_type": "code",
   "execution_count": 9,
   "metadata": {},
   "outputs": [
    {
     "name": "stdout",
     "output_type": "stream",
     "text": [
      "[[  2 121 127 ... 114 117 115]]\n"
     ]
    }
   ],
   "source": [
    "final_outputs = np.random.permutation(semi_final_outputs)\n",
    "\n",
    "final_outputs = final_outputs.astype(int)\n",
    "\n",
    "print(final_outputs)"
   ]
  },
  {
   "cell_type": "code",
   "execution_count": 10,
   "metadata": {},
   "outputs": [],
   "source": [
    "np.savetxt('temp_20220531.csv',final_outputs,fmt='%d',delimiter=\",\")"
   ]
  },
  {
   "cell_type": "code",
   "execution_count": null,
   "metadata": {},
   "outputs": [],
   "source": []
  }
 ],
 "metadata": {
  "interpreter": {
   "hash": "e036898735df109ed652720227ccf5e3b2ee36e0e286e03919424c3db5fff0c3"
  },
  "kernelspec": {
   "display_name": "Python 3.10.4 64-bit",
   "language": "python",
   "name": "python3"
  },
  "language_info": {
   "codemirror_mode": {
    "name": "ipython",
    "version": 3
   },
   "file_extension": ".py",
   "mimetype": "text/x-python",
   "name": "python",
   "nbconvert_exporter": "python",
   "pygments_lexer": "ipython3",
   "version": "3.10.4"
  },
  "orig_nbformat": 4
 },
 "nbformat": 4,
 "nbformat_minor": 2
}
