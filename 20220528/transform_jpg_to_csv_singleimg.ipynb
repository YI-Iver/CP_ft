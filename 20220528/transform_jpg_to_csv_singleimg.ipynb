{
 "cells": [
  {
   "cell_type": "code",
   "execution_count": 12,
   "metadata": {},
   "outputs": [],
   "source": [
    "import cv2\n",
    "import numpy as np\n",
    "import pandas as pd\n",
    "import os\n",
    "from sklearn import utils\n",
    "from tqdm.notebook import tqdm"
   ]
  },
  {
   "cell_type": "code",
   "execution_count": 13,
   "metadata": {},
   "outputs": [],
   "source": [
    "train_dir = r'C:\\Users\\Iver_Home\\CP_ft\\temp'"
   ]
  },
  {
   "cell_type": "code",
   "execution_count": 14,
   "metadata": {},
   "outputs": [],
   "source": [
    "def labeling(img):\n",
    "    class_name = img.split('.')[0]\n",
    "    if class_name == 'mevius':\n",
    "        return 0\n",
    "    elif class_name =='marlboro':\n",
    "        return 1\n",
    "    elif class_name =='esse':\n",
    "        return 2\n",
    "    elif class_name =='bohem':\n",
    "        return 3\n",
    "    elif class_name =='dunhill':\n",
    "        return 4\n",
    "    "
   ]
  },
  {
   "cell_type": "code",
   "execution_count": 15,
   "metadata": {},
   "outputs": [
    {
     "name": "stdout",
     "output_type": "stream",
     "text": [
      "2\n"
     ]
    }
   ],
   "source": [
    "print(labeling('esse.14.jpg'))"
   ]
  },
  {
   "cell_type": "code",
   "execution_count": 16,
   "metadata": {},
   "outputs": [],
   "source": [
    "x_data = list()\n",
    "t_data = list()"
   ]
  },
  {
   "cell_type": "code",
   "execution_count": 17,
   "metadata": {},
   "outputs": [
    {
     "name": "stdout",
     "output_type": "stream",
     "text": [
      "['bohem.14.jpg']\n"
     ]
    },
    {
     "data": {
      "application/vnd.jupyter.widget-view+json": {
       "model_id": "7562445776d441f4ba0333ad9c05896a",
       "version_major": 2,
       "version_minor": 0
      },
      "text/plain": [
       "  0%|          | 0/1 [00:00<?, ?it/s]"
      ]
     },
     "metadata": {},
     "output_type": "display_data"
    },
    {
     "name": "stdout",
     "output_type": "stream",
     "text": [
      "[[218 215 207 ...  62  49  55]\n",
      " [216 209 192 ...  63  55  63]\n",
      " [206 178 156 ...  60  57  53]\n",
      " ...\n",
      " [ 29  29  29 ...  33  33  36]\n",
      " [ 28  32  32 ...  36  32  37]\n",
      " [ 28  29  27 ...  34  31  33]]\n"
     ]
    }
   ],
   "source": [
    "print(os.listdir(train_dir))\n",
    "\n",
    "for img in tqdm(os.listdir(train_dir)):\n",
    "    total = len(os.listdir(train_dir))   #=100\n",
    "    label_data = labeling(img)\n",
    "    img_path = os.path.join(train_dir,img)\n",
    "    img_data = cv2.resize(cv2.imread(img_path,cv2.IMREAD_GRAYSCALE),(252,189))\n",
    "    #img_data : 2d array\n",
    "    x_data.append(img_data.ravel())\n",
    "    t_data.append(label_data)\n",
    "print(img_data)\n",
    "    \n"
   ]
  },
  {
   "cell_type": "code",
   "execution_count": 18,
   "metadata": {},
   "outputs": [
    {
     "name": "stdout",
     "output_type": "stream",
     "text": [
      "(189, 252)\n",
      "1\n"
     ]
    }
   ],
   "source": [
    "\n",
    "print(img_data.shape)\n",
    "\n",
    "# Or use the `len()` function with the `index` property\n",
    "print(len(df.index))\n"
   ]
  },
  {
   "cell_type": "code",
   "execution_count": 19,
   "metadata": {},
   "outputs": [
    {
     "data": {
      "text/html": [
       "<div>\n",
       "<style scoped>\n",
       "    .dataframe tbody tr th:only-of-type {\n",
       "        vertical-align: middle;\n",
       "    }\n",
       "\n",
       "    .dataframe tbody tr th {\n",
       "        vertical-align: top;\n",
       "    }\n",
       "\n",
       "    .dataframe thead th {\n",
       "        text-align: right;\n",
       "    }\n",
       "</style>\n",
       "<table border=\"1\" class=\"dataframe\">\n",
       "  <thead>\n",
       "    <tr style=\"text-align: right;\">\n",
       "      <th></th>\n",
       "      <th>0</th>\n",
       "      <th>1</th>\n",
       "      <th>2</th>\n",
       "      <th>3</th>\n",
       "      <th>4</th>\n",
       "      <th>5</th>\n",
       "      <th>6</th>\n",
       "      <th>7</th>\n",
       "      <th>8</th>\n",
       "      <th>9</th>\n",
       "      <th>...</th>\n",
       "      <th>47618</th>\n",
       "      <th>47619</th>\n",
       "      <th>47620</th>\n",
       "      <th>47621</th>\n",
       "      <th>47622</th>\n",
       "      <th>47623</th>\n",
       "      <th>47624</th>\n",
       "      <th>47625</th>\n",
       "      <th>47626</th>\n",
       "      <th>47627</th>\n",
       "    </tr>\n",
       "  </thead>\n",
       "  <tbody>\n",
       "    <tr>\n",
       "      <th>0</th>\n",
       "      <td>-38</td>\n",
       "      <td>-41</td>\n",
       "      <td>-49</td>\n",
       "      <td>-57</td>\n",
       "      <td>-82</td>\n",
       "      <td>-110</td>\n",
       "      <td>-115</td>\n",
       "      <td>-91</td>\n",
       "      <td>-70</td>\n",
       "      <td>-67</td>\n",
       "      <td>...</td>\n",
       "      <td>31</td>\n",
       "      <td>38</td>\n",
       "      <td>37</td>\n",
       "      <td>31</td>\n",
       "      <td>36</td>\n",
       "      <td>34</td>\n",
       "      <td>33</td>\n",
       "      <td>34</td>\n",
       "      <td>31</td>\n",
       "      <td>33</td>\n",
       "    </tr>\n",
       "  </tbody>\n",
       "</table>\n",
       "<p>1 rows × 47628 columns</p>\n",
       "</div>"
      ],
      "text/plain": [
       "   0      1      2      3      4      5      6      7      8      9      ...  \\\n",
       "0    -38    -41    -49    -57    -82   -110   -115    -91    -70    -67  ...   \n",
       "\n",
       "   47618  47619  47620  47621  47622  47623  47624  47625  47626  47627  \n",
       "0     31     38     37     31     36     34     33     34     31     33  \n",
       "\n",
       "[1 rows x 47628 columns]"
      ]
     },
     "metadata": {},
     "output_type": "display_data"
    }
   ],
   "source": [
    "x_df = pd.DataFrame(x_data)\n",
    "t_df = pd.DataFrame({'label':t_data})\n",
    "display(x_df)"
   ]
  },
  {
   "cell_type": "code",
   "execution_count": 20,
   "metadata": {},
   "outputs": [
    {
     "data": {
      "text/html": [
       "<div>\n",
       "<style scoped>\n",
       "    .dataframe tbody tr th:only-of-type {\n",
       "        vertical-align: middle;\n",
       "    }\n",
       "\n",
       "    .dataframe tbody tr th {\n",
       "        vertical-align: top;\n",
       "    }\n",
       "\n",
       "    .dataframe thead th {\n",
       "        text-align: right;\n",
       "    }\n",
       "</style>\n",
       "<table border=\"1\" class=\"dataframe\">\n",
       "  <thead>\n",
       "    <tr style=\"text-align: right;\">\n",
       "      <th></th>\n",
       "      <th>0</th>\n",
       "      <th>1</th>\n",
       "      <th>2</th>\n",
       "      <th>3</th>\n",
       "      <th>4</th>\n",
       "      <th>5</th>\n",
       "      <th>6</th>\n",
       "      <th>7</th>\n",
       "      <th>8</th>\n",
       "      <th>9</th>\n",
       "      <th>...</th>\n",
       "      <th>47618</th>\n",
       "      <th>47619</th>\n",
       "      <th>47620</th>\n",
       "      <th>47621</th>\n",
       "      <th>47622</th>\n",
       "      <th>47623</th>\n",
       "      <th>47624</th>\n",
       "      <th>47625</th>\n",
       "      <th>47626</th>\n",
       "      <th>47627</th>\n",
       "    </tr>\n",
       "  </thead>\n",
       "  <tbody>\n",
       "    <tr>\n",
       "      <th>0</th>\n",
       "      <td>-38</td>\n",
       "      <td>-41</td>\n",
       "      <td>-49</td>\n",
       "      <td>-57</td>\n",
       "      <td>-82</td>\n",
       "      <td>-110</td>\n",
       "      <td>-115</td>\n",
       "      <td>-91</td>\n",
       "      <td>-70</td>\n",
       "      <td>-67</td>\n",
       "      <td>...</td>\n",
       "      <td>31</td>\n",
       "      <td>38</td>\n",
       "      <td>37</td>\n",
       "      <td>31</td>\n",
       "      <td>36</td>\n",
       "      <td>34</td>\n",
       "      <td>33</td>\n",
       "      <td>34</td>\n",
       "      <td>31</td>\n",
       "      <td>33</td>\n",
       "    </tr>\n",
       "  </tbody>\n",
       "</table>\n",
       "<p>1 rows × 47628 columns</p>\n",
       "</div>"
      ],
      "text/plain": [
       "   0      1      2      3      4      5      6      7      8      9      ...  \\\n",
       "0    -38    -41    -49    -57    -82   -110   -115    -91    -70    -67  ...   \n",
       "\n",
       "   47618  47619  47620  47621  47622  47623  47624  47625  47626  47627  \n",
       "0     31     38     37     31     36     34     33     34     31     33  \n",
       "\n",
       "[1 rows x 47628 columns]"
      ]
     },
     "metadata": {},
     "output_type": "display_data"
    }
   ],
   "source": [
    "df = pd.merge(t_df, x_df, left_index=True, right_index=True)\n",
    "display(x_df)"
   ]
  },
  {
   "cell_type": "code",
   "execution_count": 21,
   "metadata": {},
   "outputs": [],
   "source": [
    "#shuffled_df = utils.shuffle(df)"
   ]
  },
  {
   "cell_type": "code",
   "execution_count": 22,
   "metadata": {},
   "outputs": [],
   "source": [
    "#shuffled_df.to_csv(r'C:\\Users\\Iver_Home\\CP_ft\\mix_output\\test.csv', index=False)\n",
    "df.to_csv(r'C:\\Users\\Iver_Home\\CP_ft\\mix_output\\test3.csv', index=False)"
   ]
  },
  {
   "cell_type": "code",
   "execution_count": null,
   "metadata": {},
   "outputs": [],
   "source": []
  }
 ],
 "metadata": {
  "interpreter": {
   "hash": "e036898735df109ed652720227ccf5e3b2ee36e0e286e03919424c3db5fff0c3"
  },
  "kernelspec": {
   "display_name": "Python 3.10.4 64-bit",
   "language": "python",
   "name": "python3"
  },
  "language_info": {
   "codemirror_mode": {
    "name": "ipython",
    "version": 3
   },
   "file_extension": ".py",
   "mimetype": "text/x-python",
   "name": "python",
   "nbconvert_exporter": "python",
   "pygments_lexer": "ipython3",
   "version": "3.10.4"
  },
  "orig_nbformat": 4
 },
 "nbformat": 4,
 "nbformat_minor": 2
}
