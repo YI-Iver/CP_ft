{
 "cells": [
  {
   "cell_type": "code",
   "execution_count": 1,
   "metadata": {},
   "outputs": [],
   "source": [
    "import numpy as np\n",
    "import cv2\n",
    "import pandas as pd"
   ]
  },
  {
   "cell_type": "code",
   "execution_count": 2,
   "metadata": {},
   "outputs": [
    {
     "name": "stdout",
     "output_type": "stream",
     "text": [
      "<class 'numpy.ndarray'>\n"
     ]
    }
   ],
   "source": [
    "img1 = cv2.imread(r'C:\\Users\\Iver_Home\\CP_ft\\mevius\\mevius.1.jpg')\n",
    "img1 = cv2.imread(r'C:\\Users\\Iver_Home\\CP_ft\\mevius\\mevius.1.jpg',1)\n",
    "img1 = cv2.imread(r'C:\\Users\\Iver_Home\\CP_ft\\mevius\\mevius.1.jpg',cv2.IMREAD_COLOR)\n",
    "img1 = cv2.resize(img1,(504,378))\n",
    "\n",
    "print(type(img1))\n",
    "\n",
    "cv2.imshow(\"image1\",img1)\n",
    "cv2.waitKey(0)\n",
    "cv2.destroyAllWindows()"
   ]
  },
  {
   "cell_type": "code",
   "execution_count": null,
   "metadata": {},
   "outputs": [],
   "source": [
    "img1_grey = cv2.imread(r'C:\\Users\\Iver_Home\\CP_ft\\mix\\bohem.14.jpg',cv2.IMREAD_GRAYSCALE)\n",
    "img1_grey = cv2.resize(img1_grey,(504,378))\n",
    "\n",
    "cv2.imshow(\"image1_grey\",img1_grey)\n",
    "cv2.waitKey(0)\n",
    "cv2.destroyAllWindows()"
   ]
  },
  {
   "cell_type": "code",
   "execution_count": null,
   "metadata": {},
   "outputs": [
    {
     "name": "stdout",
     "output_type": "stream",
     "text": [
      "<class 'numpy.ndarray'>\n",
      "[[35 43 45 ... 44 40 41]\n",
      " [37 45 39 ... 35 40 40]\n",
      " [42 39 39 ... 45 38 42]\n",
      " ...\n",
      " [41 42 41 ... 24 27 25]\n",
      " [35 39 46 ... 35 24 29]\n",
      " [20 38 39 ... 29 26 25]]\n"
     ]
    }
   ],
   "source": [
    "print(type(img1_grey))\n",
    "print(img1_grey)\n",
    "np.savetxt('ttest.csv',img1_grey,delimiter=\",\")"
   ]
  },
  {
   "cell_type": "code",
   "execution_count": null,
   "metadata": {},
   "outputs": [],
   "source": [
    "df = pd.DataFrame(img1_grey)\n",
    "\n",
    "df.to_csv('tttest.csv', index=False)"
   ]
  },
  {
   "cell_type": "code",
   "execution_count": null,
   "metadata": {},
   "outputs": [],
   "source": [
    "canny_img1 = cv2.Canny(img1_grey, 100,255)\n",
    "\n",
    "cv2.imshow(\"canny\",canny_img1)\n",
    "cv2.waitKey(0)\n",
    "cv2.destroyAllWindows()"
   ]
  },
  {
   "cell_type": "code",
   "execution_count": null,
   "metadata": {},
   "outputs": [],
   "source": [
    "sobel_img1 = cv2.Sobel(img1_grey, cv2.CV_8U, 1, 0, 3)\n",
    "\n",
    "cv2.imshow(\"sobel\", sobel_img1)\n",
    "cv2.waitKey(0)\n",
    "cv2.destroyAllWindows()"
   ]
  },
  {
   "cell_type": "code",
   "execution_count": null,
   "metadata": {},
   "outputs": [],
   "source": [
    "laplacian_img1 = cv2.Laplacian(img1_grey, cv2.CV_8U, ksize=3)\n",
    "\n",
    "cv2.imshow(\"laplacian\", laplacian_img1)\n",
    "cv2.waitKey()\n",
    "cv2.destroyAllWindows()"
   ]
  },
  {
   "cell_type": "code",
   "execution_count": null,
   "metadata": {},
   "outputs": [],
   "source": []
  }
 ],
 "metadata": {
  "interpreter": {
   "hash": "e036898735df109ed652720227ccf5e3b2ee36e0e286e03919424c3db5fff0c3"
  },
  "kernelspec": {
   "display_name": "Python 3.10.4 64-bit",
   "language": "python",
   "name": "python3"
  },
  "language_info": {
   "codemirror_mode": {
    "name": "ipython",
    "version": 3
   },
   "file_extension": ".py",
   "mimetype": "text/x-python",
   "name": "python",
   "nbconvert_exporter": "python",
   "pygments_lexer": "ipython3",
   "version": "3.10.4"
  },
  "orig_nbformat": 4
 },
 "nbformat": 4,
 "nbformat_minor": 2
}
