{
 "cells": [
  {
   "cell_type": "code",
   "execution_count": 1,
   "metadata": {},
   "outputs": [],
   "source": [
    "import cv2\n",
    "import numpy as np\n",
    "import pandas as pd\n",
    "import os\n",
    "from sklearn import utils\n",
    "from tqdm.notebook import tqdm"
   ]
  },
  {
   "cell_type": "code",
   "execution_count": 2,
   "metadata": {},
   "outputs": [],
   "source": [
    "train_dir = r'C:\\Users\\Iver_Home\\CP_ft\\mevius'"
   ]
  },
  {
   "cell_type": "code",
   "execution_count": 3,
   "metadata": {},
   "outputs": [],
   "source": [
    "def labeling(img):\n",
    "    class_name = img.split('.')[0]\n",
    "    if class_name == 'mevius':\n",
    "        return 1\n",
    "    elif class_name =='malboro':\n",
    "        return 2"
   ]
  },
  {
   "cell_type": "code",
   "execution_count": 4,
   "metadata": {},
   "outputs": [],
   "source": [
    "x_data = list()\n",
    "t_data = list()"
   ]
  },
  {
   "cell_type": "code",
   "execution_count": 5,
   "metadata": {},
   "outputs": [
    {
     "name": "stdout",
     "output_type": "stream",
     "text": [
      "['mevius.1.jpg', 'mevius.10.jpg', 'mevius.11.jpg', 'mevius.12.jpg', 'mevius.13.jpg', 'mevius.14.jpg', 'mevius.15.jpg', 'mevius.16.jpg', 'mevius.17.jpg', 'mevius.18.jpg', 'mevius.19.jpg', 'mevius.2.jpg', 'mevius.20.jpg', 'mevius.3.jpg', 'mevius.4.jpg', 'mevius.5.jpg', 'mevius.6.jpg', 'mevius.7.jpg', 'mevius.8.jpg', 'mevius.9.jpg']\n"
     ]
    },
    {
     "data": {
      "application/vnd.jupyter.widget-view+json": {
       "model_id": "bbb7d3b615824f9f96669e5ea791a48a",
       "version_major": 2,
       "version_minor": 0
      },
      "text/plain": [
       "  0%|          | 0/20 [00:00<?, ?it/s]"
      ]
     },
     "metadata": {},
     "output_type": "display_data"
    }
   ],
   "source": [
    "print(os.listdir(train_dir))\n",
    "for img in tqdm(os.listdir(train_dir)):\n",
    "    total = len(os.listdir(train_dir))\n",
    "position = 0\n",
    "leave = True\n",
    "label_data = labeling(img)"
   ]
  },
  {
   "cell_type": "code",
   "execution_count": 6,
   "metadata": {},
   "outputs": [],
   "source": [
    "img_path = os.path.join(train_dir,img)"
   ]
  },
  {
   "cell_type": "code",
   "execution_count": 7,
   "metadata": {},
   "outputs": [],
   "source": [
    "img_data = cv2.resize(cv2.imread(img_path,cv2.IMREAD_GRAYSCALE),(378,504))"
   ]
  },
  {
   "cell_type": "code",
   "execution_count": 8,
   "metadata": {},
   "outputs": [],
   "source": [
    "x_data.append(img_data.ravel())\n",
    "t_data.append(label_data)"
   ]
  },
  {
   "cell_type": "code",
   "execution_count": 9,
   "metadata": {},
   "outputs": [
    {
     "data": {
      "text/html": [
       "<div>\n",
       "<style scoped>\n",
       "    .dataframe tbody tr th:only-of-type {\n",
       "        vertical-align: middle;\n",
       "    }\n",
       "\n",
       "    .dataframe tbody tr th {\n",
       "        vertical-align: top;\n",
       "    }\n",
       "\n",
       "    .dataframe thead th {\n",
       "        text-align: right;\n",
       "    }\n",
       "</style>\n",
       "<table border=\"1\" class=\"dataframe\">\n",
       "  <thead>\n",
       "    <tr style=\"text-align: right;\">\n",
       "      <th></th>\n",
       "      <th>0</th>\n",
       "      <th>1</th>\n",
       "      <th>2</th>\n",
       "      <th>3</th>\n",
       "      <th>4</th>\n",
       "      <th>5</th>\n",
       "      <th>6</th>\n",
       "      <th>7</th>\n",
       "      <th>8</th>\n",
       "      <th>9</th>\n",
       "      <th>...</th>\n",
       "      <th>190502</th>\n",
       "      <th>190503</th>\n",
       "      <th>190504</th>\n",
       "      <th>190505</th>\n",
       "      <th>190506</th>\n",
       "      <th>190507</th>\n",
       "      <th>190508</th>\n",
       "      <th>190509</th>\n",
       "      <th>190510</th>\n",
       "      <th>190511</th>\n",
       "    </tr>\n",
       "  </thead>\n",
       "  <tbody>\n",
       "    <tr>\n",
       "      <th>0</th>\n",
       "      <td>28</td>\n",
       "      <td>30</td>\n",
       "      <td>36</td>\n",
       "      <td>34</td>\n",
       "      <td>40</td>\n",
       "      <td>30</td>\n",
       "      <td>28</td>\n",
       "      <td>38</td>\n",
       "      <td>29</td>\n",
       "      <td>43</td>\n",
       "      <td>...</td>\n",
       "      <td>5</td>\n",
       "      <td>35</td>\n",
       "      <td>23</td>\n",
       "      <td>19</td>\n",
       "      <td>22</td>\n",
       "      <td>20</td>\n",
       "      <td>21</td>\n",
       "      <td>31</td>\n",
       "      <td>14</td>\n",
       "      <td>28</td>\n",
       "    </tr>\n",
       "  </tbody>\n",
       "</table>\n",
       "<p>1 rows × 190512 columns</p>\n",
       "</div>"
      ],
      "text/plain": [
       "   0       1       2       3       4       5       6       7       8       \\\n",
       "0      28      30      36      34      40      30      28      38      29   \n",
       "\n",
       "   9       ...  190502  190503  190504  190505  190506  190507  190508  \\\n",
       "0      43  ...       5      35      23      19      22      20      21   \n",
       "\n",
       "   190509  190510  190511  \n",
       "0      31      14      28  \n",
       "\n",
       "[1 rows x 190512 columns]"
      ]
     },
     "metadata": {},
     "output_type": "display_data"
    }
   ],
   "source": [
    "x_df = pd.DataFrame(x_data)\n",
    "t_df = pd.DataFrame({'label':t_data})\n",
    "display(x_df)"
   ]
  },
  {
   "cell_type": "code",
   "execution_count": 10,
   "metadata": {},
   "outputs": [],
   "source": [
    "shuffled_df = utils.shuffle(x_df)"
   ]
  },
  {
   "cell_type": "code",
   "execution_count": 11,
   "metadata": {},
   "outputs": [
    {
     "ename": "PermissionError",
     "evalue": "[Errno 13] Permission denied: 'C:\\\\Users\\\\Iver_Home\\\\CP_ft\\\\mevius'",
     "output_type": "error",
     "traceback": [
      "\u001b[1;31m---------------------------------------------------------------------------\u001b[0m",
      "\u001b[1;31mPermissionError\u001b[0m                           Traceback (most recent call last)",
      "\u001b[1;32mc:\\Users\\Iver_Home\\CP_ft\\transform_jpg.ipynb Cell 11'\u001b[0m in \u001b[0;36m<cell line: 1>\u001b[1;34m()\u001b[0m\n\u001b[1;32m----> <a href='vscode-notebook-cell:/c%3A/Users/Iver_Home/CP_ft/transform_jpg.ipynb#ch0000010?line=0'>1</a>\u001b[0m shuffled_df\u001b[39m.\u001b[39;49mto_csv(\u001b[39mr\u001b[39;49m\u001b[39m'\u001b[39;49m\u001b[39mC:\u001b[39;49m\u001b[39m\\\u001b[39;49m\u001b[39mUsers\u001b[39;49m\u001b[39m\\\u001b[39;49m\u001b[39mIver_Home\u001b[39;49m\u001b[39m\\\u001b[39;49m\u001b[39mCP_ft\u001b[39;49m\u001b[39m\\\u001b[39;49m\u001b[39mmevius\u001b[39;49m\u001b[39m'\u001b[39;49m,index\u001b[39m=\u001b[39;49m\u001b[39mFalse\u001b[39;49;00m)\n\u001b[0;32m      <a href='vscode-notebook-cell:/c%3A/Users/Iver_Home/CP_ft/transform_jpg.ipynb#ch0000010?line=1'>2</a>\u001b[0m \u001b[39mr\u001b[39m\u001b[39m'\u001b[39m\u001b[39mC:\u001b[39m\u001b[39m\\\u001b[39m\u001b[39mUsers\u001b[39m\u001b[39m\\\u001b[39m\u001b[39mIver_Home\u001b[39m\u001b[39m\\\u001b[39m\u001b[39mCP_ft\u001b[39m\u001b[39m\\\u001b[39m\u001b[39mmevius\u001b[39m\u001b[39m'\u001b[39m\n\u001b[0;32m      <a href='vscode-notebook-cell:/c%3A/Users/Iver_Home/CP_ft/transform_jpg.ipynb#ch0000010?line=2'>3</a>\u001b[0m shuffled_df\u001b[39m.\u001b[39mto_csv(\u001b[39mr\u001b[39m\u001b[39m'\u001b[39m\u001b[39mC:\u001b[39m\u001b[39m\\\u001b[39m\u001b[39mUsers\u001b[39m\u001b[39m\\\u001b[39m\u001b[39mIver_Home\u001b[39m\u001b[39m\\\u001b[39m\u001b[39mCP_ft\u001b[39m\u001b[39m\\\u001b[39m\u001b[39mmevius.csv\u001b[39m\u001b[39m'\u001b[39m,index\u001b[39m=\u001b[39m\u001b[39mFalse\u001b[39;00m)\n",
      "File \u001b[1;32mc:\\Users\\Iver_Home\\AppData\\Local\\Programs\\Python\\Python310\\lib\\site-packages\\pandas\\core\\generic.py:3551\u001b[0m, in \u001b[0;36mNDFrame.to_csv\u001b[1;34m(self, path_or_buf, sep, na_rep, float_format, columns, header, index, index_label, mode, encoding, compression, quoting, quotechar, line_terminator, chunksize, date_format, doublequote, escapechar, decimal, errors, storage_options)\u001b[0m\n\u001b[0;32m   <a href='file:///c%3A/Users/Iver_Home/AppData/Local/Programs/Python/Python310/lib/site-packages/pandas/core/generic.py?line=3539'>3540</a>\u001b[0m df \u001b[39m=\u001b[39m \u001b[39mself\u001b[39m \u001b[39mif\u001b[39;00m \u001b[39misinstance\u001b[39m(\u001b[39mself\u001b[39m, ABCDataFrame) \u001b[39melse\u001b[39;00m \u001b[39mself\u001b[39m\u001b[39m.\u001b[39mto_frame()\n\u001b[0;32m   <a href='file:///c%3A/Users/Iver_Home/AppData/Local/Programs/Python/Python310/lib/site-packages/pandas/core/generic.py?line=3541'>3542</a>\u001b[0m formatter \u001b[39m=\u001b[39m DataFrameFormatter(\n\u001b[0;32m   <a href='file:///c%3A/Users/Iver_Home/AppData/Local/Programs/Python/Python310/lib/site-packages/pandas/core/generic.py?line=3542'>3543</a>\u001b[0m     frame\u001b[39m=\u001b[39mdf,\n\u001b[0;32m   <a href='file:///c%3A/Users/Iver_Home/AppData/Local/Programs/Python/Python310/lib/site-packages/pandas/core/generic.py?line=3543'>3544</a>\u001b[0m     header\u001b[39m=\u001b[39mheader,\n\u001b[1;32m   (...)\u001b[0m\n\u001b[0;32m   <a href='file:///c%3A/Users/Iver_Home/AppData/Local/Programs/Python/Python310/lib/site-packages/pandas/core/generic.py?line=3547'>3548</a>\u001b[0m     decimal\u001b[39m=\u001b[39mdecimal,\n\u001b[0;32m   <a href='file:///c%3A/Users/Iver_Home/AppData/Local/Programs/Python/Python310/lib/site-packages/pandas/core/generic.py?line=3548'>3549</a>\u001b[0m )\n\u001b[1;32m-> <a href='file:///c%3A/Users/Iver_Home/AppData/Local/Programs/Python/Python310/lib/site-packages/pandas/core/generic.py?line=3550'>3551</a>\u001b[0m \u001b[39mreturn\u001b[39;00m DataFrameRenderer(formatter)\u001b[39m.\u001b[39;49mto_csv(\n\u001b[0;32m   <a href='file:///c%3A/Users/Iver_Home/AppData/Local/Programs/Python/Python310/lib/site-packages/pandas/core/generic.py?line=3551'>3552</a>\u001b[0m     path_or_buf,\n\u001b[0;32m   <a href='file:///c%3A/Users/Iver_Home/AppData/Local/Programs/Python/Python310/lib/site-packages/pandas/core/generic.py?line=3552'>3553</a>\u001b[0m     line_terminator\u001b[39m=\u001b[39;49mline_terminator,\n\u001b[0;32m   <a href='file:///c%3A/Users/Iver_Home/AppData/Local/Programs/Python/Python310/lib/site-packages/pandas/core/generic.py?line=3553'>3554</a>\u001b[0m     sep\u001b[39m=\u001b[39;49msep,\n\u001b[0;32m   <a href='file:///c%3A/Users/Iver_Home/AppData/Local/Programs/Python/Python310/lib/site-packages/pandas/core/generic.py?line=3554'>3555</a>\u001b[0m     encoding\u001b[39m=\u001b[39;49mencoding,\n\u001b[0;32m   <a href='file:///c%3A/Users/Iver_Home/AppData/Local/Programs/Python/Python310/lib/site-packages/pandas/core/generic.py?line=3555'>3556</a>\u001b[0m     errors\u001b[39m=\u001b[39;49merrors,\n\u001b[0;32m   <a href='file:///c%3A/Users/Iver_Home/AppData/Local/Programs/Python/Python310/lib/site-packages/pandas/core/generic.py?line=3556'>3557</a>\u001b[0m     compression\u001b[39m=\u001b[39;49mcompression,\n\u001b[0;32m   <a href='file:///c%3A/Users/Iver_Home/AppData/Local/Programs/Python/Python310/lib/site-packages/pandas/core/generic.py?line=3557'>3558</a>\u001b[0m     quoting\u001b[39m=\u001b[39;49mquoting,\n\u001b[0;32m   <a href='file:///c%3A/Users/Iver_Home/AppData/Local/Programs/Python/Python310/lib/site-packages/pandas/core/generic.py?line=3558'>3559</a>\u001b[0m     columns\u001b[39m=\u001b[39;49mcolumns,\n\u001b[0;32m   <a href='file:///c%3A/Users/Iver_Home/AppData/Local/Programs/Python/Python310/lib/site-packages/pandas/core/generic.py?line=3559'>3560</a>\u001b[0m     index_label\u001b[39m=\u001b[39;49mindex_label,\n\u001b[0;32m   <a href='file:///c%3A/Users/Iver_Home/AppData/Local/Programs/Python/Python310/lib/site-packages/pandas/core/generic.py?line=3560'>3561</a>\u001b[0m     mode\u001b[39m=\u001b[39;49mmode,\n\u001b[0;32m   <a href='file:///c%3A/Users/Iver_Home/AppData/Local/Programs/Python/Python310/lib/site-packages/pandas/core/generic.py?line=3561'>3562</a>\u001b[0m     chunksize\u001b[39m=\u001b[39;49mchunksize,\n\u001b[0;32m   <a href='file:///c%3A/Users/Iver_Home/AppData/Local/Programs/Python/Python310/lib/site-packages/pandas/core/generic.py?line=3562'>3563</a>\u001b[0m     quotechar\u001b[39m=\u001b[39;49mquotechar,\n\u001b[0;32m   <a href='file:///c%3A/Users/Iver_Home/AppData/Local/Programs/Python/Python310/lib/site-packages/pandas/core/generic.py?line=3563'>3564</a>\u001b[0m     date_format\u001b[39m=\u001b[39;49mdate_format,\n\u001b[0;32m   <a href='file:///c%3A/Users/Iver_Home/AppData/Local/Programs/Python/Python310/lib/site-packages/pandas/core/generic.py?line=3564'>3565</a>\u001b[0m     doublequote\u001b[39m=\u001b[39;49mdoublequote,\n\u001b[0;32m   <a href='file:///c%3A/Users/Iver_Home/AppData/Local/Programs/Python/Python310/lib/site-packages/pandas/core/generic.py?line=3565'>3566</a>\u001b[0m     escapechar\u001b[39m=\u001b[39;49mescapechar,\n\u001b[0;32m   <a href='file:///c%3A/Users/Iver_Home/AppData/Local/Programs/Python/Python310/lib/site-packages/pandas/core/generic.py?line=3566'>3567</a>\u001b[0m     storage_options\u001b[39m=\u001b[39;49mstorage_options,\n\u001b[0;32m   <a href='file:///c%3A/Users/Iver_Home/AppData/Local/Programs/Python/Python310/lib/site-packages/pandas/core/generic.py?line=3567'>3568</a>\u001b[0m )\n",
      "File \u001b[1;32mc:\\Users\\Iver_Home\\AppData\\Local\\Programs\\Python\\Python310\\lib\\site-packages\\pandas\\io\\formats\\format.py:1180\u001b[0m, in \u001b[0;36mDataFrameRenderer.to_csv\u001b[1;34m(self, path_or_buf, encoding, sep, columns, index_label, mode, compression, quoting, quotechar, line_terminator, chunksize, date_format, doublequote, escapechar, errors, storage_options)\u001b[0m\n\u001b[0;32m   <a href='file:///c%3A/Users/Iver_Home/AppData/Local/Programs/Python/Python310/lib/site-packages/pandas/io/formats/format.py?line=1158'>1159</a>\u001b[0m     created_buffer \u001b[39m=\u001b[39m \u001b[39mFalse\u001b[39;00m\n\u001b[0;32m   <a href='file:///c%3A/Users/Iver_Home/AppData/Local/Programs/Python/Python310/lib/site-packages/pandas/io/formats/format.py?line=1160'>1161</a>\u001b[0m csv_formatter \u001b[39m=\u001b[39m CSVFormatter(\n\u001b[0;32m   <a href='file:///c%3A/Users/Iver_Home/AppData/Local/Programs/Python/Python310/lib/site-packages/pandas/io/formats/format.py?line=1161'>1162</a>\u001b[0m     path_or_buf\u001b[39m=\u001b[39mpath_or_buf,\n\u001b[0;32m   <a href='file:///c%3A/Users/Iver_Home/AppData/Local/Programs/Python/Python310/lib/site-packages/pandas/io/formats/format.py?line=1162'>1163</a>\u001b[0m     line_terminator\u001b[39m=\u001b[39mline_terminator,\n\u001b[1;32m   (...)\u001b[0m\n\u001b[0;32m   <a href='file:///c%3A/Users/Iver_Home/AppData/Local/Programs/Python/Python310/lib/site-packages/pandas/io/formats/format.py?line=1177'>1178</a>\u001b[0m     formatter\u001b[39m=\u001b[39m\u001b[39mself\u001b[39m\u001b[39m.\u001b[39mfmt,\n\u001b[0;32m   <a href='file:///c%3A/Users/Iver_Home/AppData/Local/Programs/Python/Python310/lib/site-packages/pandas/io/formats/format.py?line=1178'>1179</a>\u001b[0m )\n\u001b[1;32m-> <a href='file:///c%3A/Users/Iver_Home/AppData/Local/Programs/Python/Python310/lib/site-packages/pandas/io/formats/format.py?line=1179'>1180</a>\u001b[0m csv_formatter\u001b[39m.\u001b[39;49msave()\n\u001b[0;32m   <a href='file:///c%3A/Users/Iver_Home/AppData/Local/Programs/Python/Python310/lib/site-packages/pandas/io/formats/format.py?line=1181'>1182</a>\u001b[0m \u001b[39mif\u001b[39;00m created_buffer:\n\u001b[0;32m   <a href='file:///c%3A/Users/Iver_Home/AppData/Local/Programs/Python/Python310/lib/site-packages/pandas/io/formats/format.py?line=1182'>1183</a>\u001b[0m     \u001b[39massert\u001b[39;00m \u001b[39misinstance\u001b[39m(path_or_buf, StringIO)\n",
      "File \u001b[1;32mc:\\Users\\Iver_Home\\AppData\\Local\\Programs\\Python\\Python310\\lib\\site-packages\\pandas\\io\\formats\\csvs.py:241\u001b[0m, in \u001b[0;36mCSVFormatter.save\u001b[1;34m(self)\u001b[0m\n\u001b[0;32m    <a href='file:///c%3A/Users/Iver_Home/AppData/Local/Programs/Python/Python310/lib/site-packages/pandas/io/formats/csvs.py?line=236'>237</a>\u001b[0m \u001b[39m\"\"\"\u001b[39;00m\n\u001b[0;32m    <a href='file:///c%3A/Users/Iver_Home/AppData/Local/Programs/Python/Python310/lib/site-packages/pandas/io/formats/csvs.py?line=237'>238</a>\u001b[0m \u001b[39mCreate the writer & save.\u001b[39;00m\n\u001b[0;32m    <a href='file:///c%3A/Users/Iver_Home/AppData/Local/Programs/Python/Python310/lib/site-packages/pandas/io/formats/csvs.py?line=238'>239</a>\u001b[0m \u001b[39m\"\"\"\u001b[39;00m\n\u001b[0;32m    <a href='file:///c%3A/Users/Iver_Home/AppData/Local/Programs/Python/Python310/lib/site-packages/pandas/io/formats/csvs.py?line=239'>240</a>\u001b[0m \u001b[39m# apply compression and byte/text conversion\u001b[39;00m\n\u001b[1;32m--> <a href='file:///c%3A/Users/Iver_Home/AppData/Local/Programs/Python/Python310/lib/site-packages/pandas/io/formats/csvs.py?line=240'>241</a>\u001b[0m \u001b[39mwith\u001b[39;00m get_handle(\n\u001b[0;32m    <a href='file:///c%3A/Users/Iver_Home/AppData/Local/Programs/Python/Python310/lib/site-packages/pandas/io/formats/csvs.py?line=241'>242</a>\u001b[0m     \u001b[39mself\u001b[39;49m\u001b[39m.\u001b[39;49mfilepath_or_buffer,\n\u001b[0;32m    <a href='file:///c%3A/Users/Iver_Home/AppData/Local/Programs/Python/Python310/lib/site-packages/pandas/io/formats/csvs.py?line=242'>243</a>\u001b[0m     \u001b[39mself\u001b[39;49m\u001b[39m.\u001b[39;49mmode,\n\u001b[0;32m    <a href='file:///c%3A/Users/Iver_Home/AppData/Local/Programs/Python/Python310/lib/site-packages/pandas/io/formats/csvs.py?line=243'>244</a>\u001b[0m     encoding\u001b[39m=\u001b[39;49m\u001b[39mself\u001b[39;49m\u001b[39m.\u001b[39;49mencoding,\n\u001b[0;32m    <a href='file:///c%3A/Users/Iver_Home/AppData/Local/Programs/Python/Python310/lib/site-packages/pandas/io/formats/csvs.py?line=244'>245</a>\u001b[0m     errors\u001b[39m=\u001b[39;49m\u001b[39mself\u001b[39;49m\u001b[39m.\u001b[39;49merrors,\n\u001b[0;32m    <a href='file:///c%3A/Users/Iver_Home/AppData/Local/Programs/Python/Python310/lib/site-packages/pandas/io/formats/csvs.py?line=245'>246</a>\u001b[0m     compression\u001b[39m=\u001b[39;49m\u001b[39mself\u001b[39;49m\u001b[39m.\u001b[39;49mcompression,\n\u001b[0;32m    <a href='file:///c%3A/Users/Iver_Home/AppData/Local/Programs/Python/Python310/lib/site-packages/pandas/io/formats/csvs.py?line=246'>247</a>\u001b[0m     storage_options\u001b[39m=\u001b[39;49m\u001b[39mself\u001b[39;49m\u001b[39m.\u001b[39;49mstorage_options,\n\u001b[0;32m    <a href='file:///c%3A/Users/Iver_Home/AppData/Local/Programs/Python/Python310/lib/site-packages/pandas/io/formats/csvs.py?line=247'>248</a>\u001b[0m ) \u001b[39mas\u001b[39;00m handles:\n\u001b[0;32m    <a href='file:///c%3A/Users/Iver_Home/AppData/Local/Programs/Python/Python310/lib/site-packages/pandas/io/formats/csvs.py?line=248'>249</a>\u001b[0m \n\u001b[0;32m    <a href='file:///c%3A/Users/Iver_Home/AppData/Local/Programs/Python/Python310/lib/site-packages/pandas/io/formats/csvs.py?line=249'>250</a>\u001b[0m     \u001b[39m# Note: self.encoding is irrelevant here\u001b[39;00m\n\u001b[0;32m    <a href='file:///c%3A/Users/Iver_Home/AppData/Local/Programs/Python/Python310/lib/site-packages/pandas/io/formats/csvs.py?line=250'>251</a>\u001b[0m     \u001b[39mself\u001b[39m\u001b[39m.\u001b[39mwriter \u001b[39m=\u001b[39m csvlib\u001b[39m.\u001b[39mwriter(\n\u001b[0;32m    <a href='file:///c%3A/Users/Iver_Home/AppData/Local/Programs/Python/Python310/lib/site-packages/pandas/io/formats/csvs.py?line=251'>252</a>\u001b[0m         handles\u001b[39m.\u001b[39mhandle,\n\u001b[0;32m    <a href='file:///c%3A/Users/Iver_Home/AppData/Local/Programs/Python/Python310/lib/site-packages/pandas/io/formats/csvs.py?line=252'>253</a>\u001b[0m         lineterminator\u001b[39m=\u001b[39m\u001b[39mself\u001b[39m\u001b[39m.\u001b[39mline_terminator,\n\u001b[1;32m   (...)\u001b[0m\n\u001b[0;32m    <a href='file:///c%3A/Users/Iver_Home/AppData/Local/Programs/Python/Python310/lib/site-packages/pandas/io/formats/csvs.py?line=257'>258</a>\u001b[0m         quotechar\u001b[39m=\u001b[39m\u001b[39mself\u001b[39m\u001b[39m.\u001b[39mquotechar,\n\u001b[0;32m    <a href='file:///c%3A/Users/Iver_Home/AppData/Local/Programs/Python/Python310/lib/site-packages/pandas/io/formats/csvs.py?line=258'>259</a>\u001b[0m     )\n\u001b[0;32m    <a href='file:///c%3A/Users/Iver_Home/AppData/Local/Programs/Python/Python310/lib/site-packages/pandas/io/formats/csvs.py?line=260'>261</a>\u001b[0m     \u001b[39mself\u001b[39m\u001b[39m.\u001b[39m_save()\n",
      "File \u001b[1;32mc:\\Users\\Iver_Home\\AppData\\Local\\Programs\\Python\\Python310\\lib\\site-packages\\pandas\\io\\common.py:789\u001b[0m, in \u001b[0;36mget_handle\u001b[1;34m(path_or_buf, mode, encoding, compression, memory_map, is_text, errors, storage_options)\u001b[0m\n\u001b[0;32m    <a href='file:///c%3A/Users/Iver_Home/AppData/Local/Programs/Python/Python310/lib/site-packages/pandas/io/common.py?line=783'>784</a>\u001b[0m \u001b[39melif\u001b[39;00m \u001b[39misinstance\u001b[39m(handle, \u001b[39mstr\u001b[39m):\n\u001b[0;32m    <a href='file:///c%3A/Users/Iver_Home/AppData/Local/Programs/Python/Python310/lib/site-packages/pandas/io/common.py?line=784'>785</a>\u001b[0m     \u001b[39m# Check whether the filename is to be opened in binary mode.\u001b[39;00m\n\u001b[0;32m    <a href='file:///c%3A/Users/Iver_Home/AppData/Local/Programs/Python/Python310/lib/site-packages/pandas/io/common.py?line=785'>786</a>\u001b[0m     \u001b[39m# Binary mode does not support 'encoding' and 'newline'.\u001b[39;00m\n\u001b[0;32m    <a href='file:///c%3A/Users/Iver_Home/AppData/Local/Programs/Python/Python310/lib/site-packages/pandas/io/common.py?line=786'>787</a>\u001b[0m     \u001b[39mif\u001b[39;00m ioargs\u001b[39m.\u001b[39mencoding \u001b[39mand\u001b[39;00m \u001b[39m\"\u001b[39m\u001b[39mb\u001b[39m\u001b[39m\"\u001b[39m \u001b[39mnot\u001b[39;00m \u001b[39min\u001b[39;00m ioargs\u001b[39m.\u001b[39mmode:\n\u001b[0;32m    <a href='file:///c%3A/Users/Iver_Home/AppData/Local/Programs/Python/Python310/lib/site-packages/pandas/io/common.py?line=787'>788</a>\u001b[0m         \u001b[39m# Encoding\u001b[39;00m\n\u001b[1;32m--> <a href='file:///c%3A/Users/Iver_Home/AppData/Local/Programs/Python/Python310/lib/site-packages/pandas/io/common.py?line=788'>789</a>\u001b[0m         handle \u001b[39m=\u001b[39m \u001b[39mopen\u001b[39;49m(\n\u001b[0;32m    <a href='file:///c%3A/Users/Iver_Home/AppData/Local/Programs/Python/Python310/lib/site-packages/pandas/io/common.py?line=789'>790</a>\u001b[0m             handle,\n\u001b[0;32m    <a href='file:///c%3A/Users/Iver_Home/AppData/Local/Programs/Python/Python310/lib/site-packages/pandas/io/common.py?line=790'>791</a>\u001b[0m             ioargs\u001b[39m.\u001b[39;49mmode,\n\u001b[0;32m    <a href='file:///c%3A/Users/Iver_Home/AppData/Local/Programs/Python/Python310/lib/site-packages/pandas/io/common.py?line=791'>792</a>\u001b[0m             encoding\u001b[39m=\u001b[39;49mioargs\u001b[39m.\u001b[39;49mencoding,\n\u001b[0;32m    <a href='file:///c%3A/Users/Iver_Home/AppData/Local/Programs/Python/Python310/lib/site-packages/pandas/io/common.py?line=792'>793</a>\u001b[0m             errors\u001b[39m=\u001b[39;49merrors,\n\u001b[0;32m    <a href='file:///c%3A/Users/Iver_Home/AppData/Local/Programs/Python/Python310/lib/site-packages/pandas/io/common.py?line=793'>794</a>\u001b[0m             newline\u001b[39m=\u001b[39;49m\u001b[39m\"\u001b[39;49m\u001b[39m\"\u001b[39;49m,\n\u001b[0;32m    <a href='file:///c%3A/Users/Iver_Home/AppData/Local/Programs/Python/Python310/lib/site-packages/pandas/io/common.py?line=794'>795</a>\u001b[0m         )\n\u001b[0;32m    <a href='file:///c%3A/Users/Iver_Home/AppData/Local/Programs/Python/Python310/lib/site-packages/pandas/io/common.py?line=795'>796</a>\u001b[0m     \u001b[39melse\u001b[39;00m:\n\u001b[0;32m    <a href='file:///c%3A/Users/Iver_Home/AppData/Local/Programs/Python/Python310/lib/site-packages/pandas/io/common.py?line=796'>797</a>\u001b[0m         \u001b[39m# Binary mode\u001b[39;00m\n\u001b[0;32m    <a href='file:///c%3A/Users/Iver_Home/AppData/Local/Programs/Python/Python310/lib/site-packages/pandas/io/common.py?line=797'>798</a>\u001b[0m         handle \u001b[39m=\u001b[39m \u001b[39mopen\u001b[39m(handle, ioargs\u001b[39m.\u001b[39mmode)\n",
      "\u001b[1;31mPermissionError\u001b[0m: [Errno 13] Permission denied: 'C:\\\\Users\\\\Iver_Home\\\\CP_ft\\\\mevius'"
     ]
    }
   ],
   "source": [
    "shuffled_df.to_csv(r'C:\\Users\\Iver_Home\\CP_ft\\mevius',index=False)\n",
    "r'C:\\Users\\Iver_Home\\CP_ft\\mevius'\n",
    "shuffled_df.to_csv(r'C:\\Users\\Iver_Home\\CP_ft\\mevius.csv',index=False)"
   ]
  },
  {
   "cell_type": "code",
   "execution_count": null,
   "metadata": {},
   "outputs": [],
   "source": []
  }
 ],
 "metadata": {
  "interpreter": {
   "hash": "e036898735df109ed652720227ccf5e3b2ee36e0e286e03919424c3db5fff0c3"
  },
  "kernelspec": {
   "display_name": "Python 3.10.4 64-bit",
   "language": "python",
   "name": "python3"
  },
  "language_info": {
   "codemirror_mode": {
    "name": "ipython",
    "version": 3
   },
   "file_extension": ".py",
   "mimetype": "text/x-python",
   "name": "python",
   "nbconvert_exporter": "python",
   "pygments_lexer": "ipython3",
   "version": "3.10.4"
  },
  "orig_nbformat": 4
 },
 "nbformat": 4,
 "nbformat_minor": 2
}
